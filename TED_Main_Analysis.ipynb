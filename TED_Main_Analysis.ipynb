{
 "cells": [
  {
   "cell_type": "markdown",
   "metadata": {},
   "source": [
    "### TED_Main.csv Data Analysis"
   ]
  },
  {
   "cell_type": "code",
   "execution_count": 103,
   "metadata": {},
   "outputs": [],
   "source": [
    "import pandas as pd\n",
    "import numpy as np\n",
    "\n",
    "%matplotlib inline\n",
    "import matplotlib.pyplot as plt\n",
    "import seaborn as sns\n",
    "from wordcloud import WordCloud, STOPWORDS, ImageColorGenerator\n",
    "\n",
    "import json\n",
    "from pandas.io.json import json_normalize"
   ]
  },
  {
   "cell_type": "markdown",
   "metadata": {},
   "source": [
    "#### Possible question that can be Answered from the data\n",
    "\n",
    "1. Find which area has more TED talks being released.\n",
    "2. Which TED talk has more influence on the crowd taking the number of views into consideration?\n",
    "3. What is making the TED talks popular, considering the duration on talk and then day or time it is made available?\n",
    "4. We could also do topic modelling or clustering the TED talks to see a trend of how it covers the areas from science to business to global issues.\n",
    "5. Is the TED talk on global issues more popular and speakers from which fields are more leaned toward it?\n",
    "6. We could also use the speaker’s name to find the gender of the speaker, which could further lead to take out inference like which gender has more popular and powerful speakers."
   ]
  },
  {
   "cell_type": "code",
   "execution_count": 116,
   "metadata": {},
   "outputs": [
    {
     "data": {
      "text/plain": [
       "Index(['comments', 'description', 'duration', 'event', 'film_date',\n",
       "       'languages', 'main_speaker', 'name', 'num_speaker', 'published_date',\n",
       "       'ratings', 'related_talks', 'speaker_occupation', 'tags', 'title',\n",
       "       'url', 'views'],\n",
       "      dtype='object')"
      ]
     },
     "execution_count": 116,
     "metadata": {},
     "output_type": "execute_result"
    }
   ],
   "source": [
    "df1 = pd.read_csv('dataset/ted_main.csv')\n",
    "df1.columns"
   ]
  },
  {
   "cell_type": "code",
   "execution_count": 117,
   "metadata": {},
   "outputs": [
    {
     "data": {
      "text/html": [
       "<div>\n",
       "<style scoped>\n",
       "    .dataframe tbody tr th:only-of-type {\n",
       "        vertical-align: middle;\n",
       "    }\n",
       "\n",
       "    .dataframe tbody tr th {\n",
       "        vertical-align: top;\n",
       "    }\n",
       "\n",
       "    .dataframe thead th {\n",
       "        text-align: right;\n",
       "    }\n",
       "</style>\n",
       "<table border=\"1\" class=\"dataframe\">\n",
       "  <thead>\n",
       "    <tr style=\"text-align: right;\">\n",
       "      <th></th>\n",
       "      <th>comments</th>\n",
       "      <th>description</th>\n",
       "      <th>duration</th>\n",
       "      <th>event</th>\n",
       "      <th>film_date</th>\n",
       "      <th>languages</th>\n",
       "      <th>main_speaker</th>\n",
       "      <th>name</th>\n",
       "      <th>num_speaker</th>\n",
       "      <th>published_date</th>\n",
       "      <th>ratings</th>\n",
       "      <th>related_talks</th>\n",
       "      <th>speaker_occupation</th>\n",
       "      <th>tags</th>\n",
       "      <th>title</th>\n",
       "      <th>url</th>\n",
       "      <th>views</th>\n",
       "    </tr>\n",
       "  </thead>\n",
       "  <tbody>\n",
       "    <tr>\n",
       "      <th>0</th>\n",
       "      <td>4553</td>\n",
       "      <td>Sir Ken Robinson makes an entertaining and pro...</td>\n",
       "      <td>1164</td>\n",
       "      <td>TED2006</td>\n",
       "      <td>1140825600</td>\n",
       "      <td>60</td>\n",
       "      <td>Ken Robinson</td>\n",
       "      <td>Ken Robinson: Do schools kill creativity?</td>\n",
       "      <td>1</td>\n",
       "      <td>1151367060</td>\n",
       "      <td>[{'id': 7, 'name': 'Funny', 'count': 19645}, {...</td>\n",
       "      <td>[{'id': 865, 'hero': 'https://pe.tedcdn.com/im...</td>\n",
       "      <td>Author/educator</td>\n",
       "      <td>['children', 'creativity', 'culture', 'dance',...</td>\n",
       "      <td>Do schools kill creativity?</td>\n",
       "      <td>https://www.ted.com/talks/ken_robinson_says_sc...</td>\n",
       "      <td>47227110</td>\n",
       "    </tr>\n",
       "    <tr>\n",
       "      <th>1</th>\n",
       "      <td>265</td>\n",
       "      <td>With the same humor and humanity he exuded in ...</td>\n",
       "      <td>977</td>\n",
       "      <td>TED2006</td>\n",
       "      <td>1140825600</td>\n",
       "      <td>43</td>\n",
       "      <td>Al Gore</td>\n",
       "      <td>Al Gore: Averting the climate crisis</td>\n",
       "      <td>1</td>\n",
       "      <td>1151367060</td>\n",
       "      <td>[{'id': 7, 'name': 'Funny', 'count': 544}, {'i...</td>\n",
       "      <td>[{'id': 243, 'hero': 'https://pe.tedcdn.com/im...</td>\n",
       "      <td>Climate advocate</td>\n",
       "      <td>['alternative energy', 'cars', 'climate change...</td>\n",
       "      <td>Averting the climate crisis</td>\n",
       "      <td>https://www.ted.com/talks/al_gore_on_averting_...</td>\n",
       "      <td>3200520</td>\n",
       "    </tr>\n",
       "  </tbody>\n",
       "</table>\n",
       "</div>"
      ],
      "text/plain": [
       "   comments                                        description  duration  \\\n",
       "0      4553  Sir Ken Robinson makes an entertaining and pro...      1164   \n",
       "1       265  With the same humor and humanity he exuded in ...       977   \n",
       "\n",
       "     event   film_date  languages  main_speaker  \\\n",
       "0  TED2006  1140825600         60  Ken Robinson   \n",
       "1  TED2006  1140825600         43       Al Gore   \n",
       "\n",
       "                                        name  num_speaker  published_date  \\\n",
       "0  Ken Robinson: Do schools kill creativity?            1      1151367060   \n",
       "1       Al Gore: Averting the climate crisis            1      1151367060   \n",
       "\n",
       "                                             ratings  \\\n",
       "0  [{'id': 7, 'name': 'Funny', 'count': 19645}, {...   \n",
       "1  [{'id': 7, 'name': 'Funny', 'count': 544}, {'i...   \n",
       "\n",
       "                                       related_talks speaker_occupation  \\\n",
       "0  [{'id': 865, 'hero': 'https://pe.tedcdn.com/im...    Author/educator   \n",
       "1  [{'id': 243, 'hero': 'https://pe.tedcdn.com/im...   Climate advocate   \n",
       "\n",
       "                                                tags  \\\n",
       "0  ['children', 'creativity', 'culture', 'dance',...   \n",
       "1  ['alternative energy', 'cars', 'climate change...   \n",
       "\n",
       "                         title  \\\n",
       "0  Do schools kill creativity?   \n",
       "1  Averting the climate crisis   \n",
       "\n",
       "                                                 url     views  \n",
       "0  https://www.ted.com/talks/ken_robinson_says_sc...  47227110  \n",
       "1  https://www.ted.com/talks/al_gore_on_averting_...   3200520  "
      ]
     },
     "execution_count": 117,
     "metadata": {},
     "output_type": "execute_result"
    }
   ],
   "source": [
    "df1.head(2)"
   ]
  },
  {
   "cell_type": "markdown",
   "metadata": {},
   "source": [
    "### Columns description for the ted_main.csv files i.e, the features available\n",
    "- comments: comments made on the talk\n",
    "- description: Talk description\n",
    "- duration: Talk duration in seconds.\n",
    "- event: Cointains the TED talk id of the event where the event took place.\n",
    "- film_date: It shows the date of recording of the talk and is present in the UNIX Timestamp \n",
    "- languages: The number of languages in which the talk is available.\n",
    "- main_speaker: Name of the speaker of the talk.\n",
    "- name: name of the TED Talk (contains title and the speaker)\n",
    "- num_speaker: The number of speakers giving the TED talk.\n",
    "- published_date: This date is present in the UNIX timestamp in the original dataset and contains the date of publication of TED talk on TED website\n",
    "- ratings: Various ratings given to the talk, present in the dictionary format in the talk (JSON Dictionary format)\n",
    "- related_talks: list containing recommended talks to watch next.\n",
    "- speaker_occupation: Speacker occupation\n",
    "- tags: Tages associated with the talk.\n",
    "- title: Ted talk title\n",
    "- url: The URL of the talk.\n",
    "- views: The number of view   "
   ]
  },
  {
   "cell_type": "markdown",
   "metadata": {},
   "source": [
    "### Let's check for any null value in any of the column now."
   ]
  },
  {
   "cell_type": "code",
   "execution_count": 118,
   "metadata": {},
   "outputs": [
    {
     "data": {
      "text/plain": [
       "True"
      ]
     },
     "execution_count": 118,
     "metadata": {},
     "output_type": "execute_result"
    }
   ],
   "source": [
    "df1.isnull().values.any()"
   ]
  },
  {
   "cell_type": "code",
   "execution_count": 119,
   "metadata": {},
   "outputs": [
    {
     "data": {
      "text/plain": [
       "comments              0\n",
       "description           0\n",
       "duration              0\n",
       "event                 0\n",
       "film_date             0\n",
       "languages             0\n",
       "main_speaker          0\n",
       "name                  0\n",
       "num_speaker           0\n",
       "published_date        0\n",
       "ratings               0\n",
       "related_talks         0\n",
       "speaker_occupation    6\n",
       "tags                  0\n",
       "title                 0\n",
       "url                   0\n",
       "views                 0\n",
       "dtype: int64"
      ]
     },
     "execution_count": 119,
     "metadata": {},
     "output_type": "execute_result"
    }
   ],
   "source": [
    "#column wise analysis for number of NaNs \n",
    "df1.isnull().sum()"
   ]
  },
  {
   "cell_type": "code",
   "execution_count": 120,
   "metadata": {},
   "outputs": [
    {
     "data": {
      "text/plain": [
       "6"
      ]
     },
     "execution_count": 120,
     "metadata": {},
     "output_type": "execute_result"
    }
   ],
   "source": [
    "# Sum of all the NaN Present in the table\n",
    "df1.isnull().sum().sum()"
   ]
  },
  {
   "cell_type": "code",
   "execution_count": 138,
   "metadata": {},
   "outputs": [],
   "source": [
    "df1.dropna(inplace=True)"
   ]
  },
  {
   "cell_type": "code",
   "execution_count": 139,
   "metadata": {},
   "outputs": [
    {
     "data": {
      "text/plain": [
       "comments              0\n",
       "description           0\n",
       "duration              0\n",
       "event                 0\n",
       "film_date             0\n",
       "languages             0\n",
       "main_speaker          0\n",
       "name                  0\n",
       "num_speaker           0\n",
       "published_date        0\n",
       "ratings               0\n",
       "related_talks         0\n",
       "speaker_occupation    0\n",
       "tags                  0\n",
       "title                 0\n",
       "url                   0\n",
       "views                 0\n",
       "published_year        0\n",
       "dtype: int64"
      ]
     },
     "execution_count": 139,
     "metadata": {},
     "output_type": "execute_result"
    }
   ],
   "source": [
    "df1.isnull().sum()"
   ]
  },
  {
   "cell_type": "code",
   "execution_count": 140,
   "metadata": {},
   "outputs": [
    {
     "data": {
      "text/plain": [
       "comments               int64\n",
       "description           object\n",
       "duration               int64\n",
       "event                 object\n",
       "film_date             object\n",
       "languages              int64\n",
       "main_speaker          object\n",
       "name                  object\n",
       "num_speaker            int64\n",
       "published_date        object\n",
       "ratings               object\n",
       "related_talks         object\n",
       "speaker_occupation    object\n",
       "tags                  object\n",
       "title                 object\n",
       "url                   object\n",
       "views                  int64\n",
       "published_year        object\n",
       "dtype: object"
      ]
     },
     "execution_count": 140,
     "metadata": {},
     "output_type": "execute_result"
    }
   ],
   "source": [
    "df1.dtypes"
   ]
  },
  {
   "cell_type": "code",
   "execution_count": 121,
   "metadata": {},
   "outputs": [
    {
     "data": {
      "text/html": [
       "<div>\n",
       "<style scoped>\n",
       "    .dataframe tbody tr th:only-of-type {\n",
       "        vertical-align: middle;\n",
       "    }\n",
       "\n",
       "    .dataframe tbody tr th {\n",
       "        vertical-align: top;\n",
       "    }\n",
       "\n",
       "    .dataframe thead th {\n",
       "        text-align: right;\n",
       "    }\n",
       "</style>\n",
       "<table border=\"1\" class=\"dataframe\">\n",
       "  <thead>\n",
       "    <tr style=\"text-align: right;\">\n",
       "      <th></th>\n",
       "      <th>comments</th>\n",
       "      <th>description</th>\n",
       "      <th>duration</th>\n",
       "      <th>event</th>\n",
       "      <th>film_date</th>\n",
       "      <th>languages</th>\n",
       "      <th>main_speaker</th>\n",
       "      <th>name</th>\n",
       "      <th>num_speaker</th>\n",
       "      <th>published_date</th>\n",
       "      <th>ratings</th>\n",
       "      <th>related_talks</th>\n",
       "      <th>speaker_occupation</th>\n",
       "      <th>tags</th>\n",
       "      <th>title</th>\n",
       "      <th>url</th>\n",
       "      <th>views</th>\n",
       "      <th>published_year</th>\n",
       "    </tr>\n",
       "  </thead>\n",
       "  <tbody>\n",
       "    <tr>\n",
       "      <th>0</th>\n",
       "      <td>4553</td>\n",
       "      <td>Sir Ken Robinson makes an entertaining and pro...</td>\n",
       "      <td>1164</td>\n",
       "      <td>TED2006</td>\n",
       "      <td>24-02-2006</td>\n",
       "      <td>60</td>\n",
       "      <td>Ken Robinson</td>\n",
       "      <td>Ken Robinson: Do schools kill creativity?</td>\n",
       "      <td>1</td>\n",
       "      <td>26-06-2006</td>\n",
       "      <td>[{'id': 7, 'name': 'Funny', 'count': 19645}, {...</td>\n",
       "      <td>[{'id': 865, 'hero': 'https://pe.tedcdn.com/im...</td>\n",
       "      <td>Author/educator</td>\n",
       "      <td>['children', 'creativity', 'culture', 'dance',...</td>\n",
       "      <td>Do schools kill creativity?</td>\n",
       "      <td>https://www.ted.com/talks/ken_robinson_says_sc...</td>\n",
       "      <td>47227110</td>\n",
       "      <td>2006</td>\n",
       "    </tr>\n",
       "    <tr>\n",
       "      <th>1</th>\n",
       "      <td>265</td>\n",
       "      <td>With the same humor and humanity he exuded in ...</td>\n",
       "      <td>977</td>\n",
       "      <td>TED2006</td>\n",
       "      <td>24-02-2006</td>\n",
       "      <td>43</td>\n",
       "      <td>Al Gore</td>\n",
       "      <td>Al Gore: Averting the climate crisis</td>\n",
       "      <td>1</td>\n",
       "      <td>26-06-2006</td>\n",
       "      <td>[{'id': 7, 'name': 'Funny', 'count': 544}, {'i...</td>\n",
       "      <td>[{'id': 243, 'hero': 'https://pe.tedcdn.com/im...</td>\n",
       "      <td>Climate advocate</td>\n",
       "      <td>['alternative energy', 'cars', 'climate change...</td>\n",
       "      <td>Averting the climate crisis</td>\n",
       "      <td>https://www.ted.com/talks/al_gore_on_averting_...</td>\n",
       "      <td>3200520</td>\n",
       "      <td>2006</td>\n",
       "    </tr>\n",
       "    <tr>\n",
       "      <th>2</th>\n",
       "      <td>124</td>\n",
       "      <td>New York Times columnist David Pogue takes aim...</td>\n",
       "      <td>1286</td>\n",
       "      <td>TED2006</td>\n",
       "      <td>23-02-2006</td>\n",
       "      <td>26</td>\n",
       "      <td>David Pogue</td>\n",
       "      <td>David Pogue: Simplicity sells</td>\n",
       "      <td>1</td>\n",
       "      <td>26-06-2006</td>\n",
       "      <td>[{'id': 7, 'name': 'Funny', 'count': 964}, {'i...</td>\n",
       "      <td>[{'id': 1725, 'hero': 'https://pe.tedcdn.com/i...</td>\n",
       "      <td>Technology columnist</td>\n",
       "      <td>['computers', 'entertainment', 'interface desi...</td>\n",
       "      <td>Simplicity sells</td>\n",
       "      <td>https://www.ted.com/talks/david_pogue_says_sim...</td>\n",
       "      <td>1636292</td>\n",
       "      <td>2006</td>\n",
       "    </tr>\n",
       "    <tr>\n",
       "      <th>3</th>\n",
       "      <td>200</td>\n",
       "      <td>In an emotionally charged talk, MacArthur-winn...</td>\n",
       "      <td>1116</td>\n",
       "      <td>TED2006</td>\n",
       "      <td>25-02-2006</td>\n",
       "      <td>35</td>\n",
       "      <td>Majora Carter</td>\n",
       "      <td>Majora Carter: Greening the ghetto</td>\n",
       "      <td>1</td>\n",
       "      <td>26-06-2006</td>\n",
       "      <td>[{'id': 3, 'name': 'Courageous', 'count': 760}...</td>\n",
       "      <td>[{'id': 1041, 'hero': 'https://pe.tedcdn.com/i...</td>\n",
       "      <td>Activist for environmental justice</td>\n",
       "      <td>['MacArthur grant', 'activism', 'business', 'c...</td>\n",
       "      <td>Greening the ghetto</td>\n",
       "      <td>https://www.ted.com/talks/majora_carter_s_tale...</td>\n",
       "      <td>1697550</td>\n",
       "      <td>2006</td>\n",
       "    </tr>\n",
       "    <tr>\n",
       "      <th>4</th>\n",
       "      <td>593</td>\n",
       "      <td>You've never seen data presented like this. Wi...</td>\n",
       "      <td>1190</td>\n",
       "      <td>TED2006</td>\n",
       "      <td>21-02-2006</td>\n",
       "      <td>48</td>\n",
       "      <td>Hans Rosling</td>\n",
       "      <td>Hans Rosling: The best stats you've ever seen</td>\n",
       "      <td>1</td>\n",
       "      <td>27-06-2006</td>\n",
       "      <td>[{'id': 9, 'name': 'Ingenious', 'count': 3202}...</td>\n",
       "      <td>[{'id': 2056, 'hero': 'https://pe.tedcdn.com/i...</td>\n",
       "      <td>Global health expert; data visionary</td>\n",
       "      <td>['Africa', 'Asia', 'Google', 'demo', 'economic...</td>\n",
       "      <td>The best stats you've ever seen</td>\n",
       "      <td>https://www.ted.com/talks/hans_rosling_shows_t...</td>\n",
       "      <td>12005869</td>\n",
       "      <td>2006</td>\n",
       "    </tr>\n",
       "  </tbody>\n",
       "</table>\n",
       "</div>"
      ],
      "text/plain": [
       "   comments                                        description  duration  \\\n",
       "0      4553  Sir Ken Robinson makes an entertaining and pro...      1164   \n",
       "1       265  With the same humor and humanity he exuded in ...       977   \n",
       "2       124  New York Times columnist David Pogue takes aim...      1286   \n",
       "3       200  In an emotionally charged talk, MacArthur-winn...      1116   \n",
       "4       593  You've never seen data presented like this. Wi...      1190   \n",
       "\n",
       "     event   film_date  languages   main_speaker  \\\n",
       "0  TED2006  24-02-2006         60   Ken Robinson   \n",
       "1  TED2006  24-02-2006         43        Al Gore   \n",
       "2  TED2006  23-02-2006         26    David Pogue   \n",
       "3  TED2006  25-02-2006         35  Majora Carter   \n",
       "4  TED2006  21-02-2006         48   Hans Rosling   \n",
       "\n",
       "                                            name  num_speaker published_date  \\\n",
       "0      Ken Robinson: Do schools kill creativity?            1     26-06-2006   \n",
       "1           Al Gore: Averting the climate crisis            1     26-06-2006   \n",
       "2                  David Pogue: Simplicity sells            1     26-06-2006   \n",
       "3             Majora Carter: Greening the ghetto            1     26-06-2006   \n",
       "4  Hans Rosling: The best stats you've ever seen            1     27-06-2006   \n",
       "\n",
       "                                             ratings  \\\n",
       "0  [{'id': 7, 'name': 'Funny', 'count': 19645}, {...   \n",
       "1  [{'id': 7, 'name': 'Funny', 'count': 544}, {'i...   \n",
       "2  [{'id': 7, 'name': 'Funny', 'count': 964}, {'i...   \n",
       "3  [{'id': 3, 'name': 'Courageous', 'count': 760}...   \n",
       "4  [{'id': 9, 'name': 'Ingenious', 'count': 3202}...   \n",
       "\n",
       "                                       related_talks  \\\n",
       "0  [{'id': 865, 'hero': 'https://pe.tedcdn.com/im...   \n",
       "1  [{'id': 243, 'hero': 'https://pe.tedcdn.com/im...   \n",
       "2  [{'id': 1725, 'hero': 'https://pe.tedcdn.com/i...   \n",
       "3  [{'id': 1041, 'hero': 'https://pe.tedcdn.com/i...   \n",
       "4  [{'id': 2056, 'hero': 'https://pe.tedcdn.com/i...   \n",
       "\n",
       "                     speaker_occupation  \\\n",
       "0                       Author/educator   \n",
       "1                      Climate advocate   \n",
       "2                  Technology columnist   \n",
       "3    Activist for environmental justice   \n",
       "4  Global health expert; data visionary   \n",
       "\n",
       "                                                tags  \\\n",
       "0  ['children', 'creativity', 'culture', 'dance',...   \n",
       "1  ['alternative energy', 'cars', 'climate change...   \n",
       "2  ['computers', 'entertainment', 'interface desi...   \n",
       "3  ['MacArthur grant', 'activism', 'business', 'c...   \n",
       "4  ['Africa', 'Asia', 'Google', 'demo', 'economic...   \n",
       "\n",
       "                             title  \\\n",
       "0      Do schools kill creativity?   \n",
       "1      Averting the climate crisis   \n",
       "2                 Simplicity sells   \n",
       "3              Greening the ghetto   \n",
       "4  The best stats you've ever seen   \n",
       "\n",
       "                                                 url     views published_year  \n",
       "0  https://www.ted.com/talks/ken_robinson_says_sc...  47227110           2006  \n",
       "1  https://www.ted.com/talks/al_gore_on_averting_...   3200520           2006  \n",
       "2  https://www.ted.com/talks/david_pogue_says_sim...   1636292           2006  \n",
       "3  https://www.ted.com/talks/majora_carter_s_tale...   1697550           2006  \n",
       "4  https://www.ted.com/talks/hans_rosling_shows_t...  12005869           2006  "
      ]
     },
     "execution_count": 121,
     "metadata": {},
     "output_type": "execute_result"
    }
   ],
   "source": [
    "#Converting Unite timestamp to human readable date and time \n",
    "import datetime as dt\n",
    "\n",
    "df1['film_date'] = df1['film_date'].apply(lambda x: dt.datetime.fromtimestamp(int(x)).strftime('%d-%m-%Y'))\n",
    "df1['published_year'] = df1['published_date'].apply(lambda x: dt.datetime.fromtimestamp(int(x)).strftime('%Y'))\n",
    "df1['published_date'] = df1['published_date'].apply(lambda x: dt.datetime.fromtimestamp(int(x)).strftime('%d-%m-%Y'))\n",
    "df1.head()"
   ]
  },
  {
   "cell_type": "code",
   "execution_count": 122,
   "metadata": {},
   "outputs": [
    {
     "data": {
      "text/plain": [
       "2550"
      ]
     },
     "execution_count": 122,
     "metadata": {},
     "output_type": "execute_result"
    }
   ],
   "source": [
    "len(df1)"
   ]
  },
  {
   "cell_type": "code",
   "execution_count": 123,
   "metadata": {},
   "outputs": [
    {
     "data": {
      "text/plain": [
       "2012    306\n",
       "2011    261\n",
       "2010    257\n",
       "2013    244\n",
       "2016    243\n",
       "2014    240\n",
       "2009    222\n",
       "2015    220\n",
       "2017    197\n",
       "2008    188\n",
       "2007    122\n",
       "2006     50\n",
       "Name: published_year, dtype: int64"
      ]
     },
     "execution_count": 123,
     "metadata": {},
     "output_type": "execute_result"
    }
   ],
   "source": [
    "df1['published_year'].value_counts()"
   ]
  },
  {
   "cell_type": "markdown",
   "metadata": {},
   "source": [
    "### Plots against the Event Year when it was actually happened, How long the TED talk went, number of languages it is released in, number of views, number of response received over them"
   ]
  },
  {
   "cell_type": "code",
   "execution_count": 125,
   "metadata": {},
   "outputs": [],
   "source": [
    "years = dict(df1['published_year'].value_counts()).keys()\n",
    "year_cnt = dict(df1['published_year'].value_counts()).values()\n",
    "# years, year_cnt\n",
    "year_dict = dict(df1['published_year'].value_counts())\n",
    "# print(year_dict)\n",
    "\n",
    "year_d = dict(sorted(year_dict.items()))\n",
    "# from collections import OrderedDict\n",
    "# year_d = dict(OrderedDict(sorted(year_dict.items(), key=lambda t: t[0])))\n",
    "# print(year_d)"
   ]
  },
  {
   "cell_type": "code",
   "execution_count": 126,
   "metadata": {},
   "outputs": [
    {
     "data": {
      "image/png": "[encoded data removed]",
      "text/plain": [
       "<Figure size 432x288 with 1 Axes>"
      ]
     },
     "metadata": {
      "needs_background": "light"
     },
     "output_type": "display_data"
    }
   ],
   "source": [
    "import numpy as np\n",
    "years = list(year_d.keys())[:len(year_d)-1]\n",
    "y_pos = np.arange(len(years))\n",
    "year_cnt = list(year_d.values())[:len(years)]\n",
    "\n",
    "plt.bar(y_pos,year_cnt, align = 'center', alpha = 0.5)\n",
    "plt.xticks(y_pos, years, rotation = 90)\n",
    "plt.ylabel('Count')\n",
    "plt.title('Number of TED Talk per Year')\n",
    "plt.show()"
   ]
  },
  {
   "cell_type": "markdown",
   "metadata": {},
   "source": [
    "#### Number of TED Talk view"
   ]
  },
  {
   "cell_type": "code",
   "execution_count": 127,
   "metadata": {},
   "outputs": [
    {
     "data": {
      "text/plain": [
       "<matplotlib.axes._subplots.AxesSubplot at 0x19e78705f60>"
      ]
     },
     "execution_count": 127,
     "metadata": {},
     "output_type": "execute_result"
    },
    {
     "data": {
      "image/png": "[encoded data removed]",
      "text/plain": [
       "<Figure size 432x288 with 1 Axes>"
      ]
     },
     "metadata": {
      "needs_background": "light"
     },
     "output_type": "display_data"
    }
   ],
   "source": [
    "sns.kdeplot(df1['views'])"
   ]
  },
  {
   "cell_type": "code",
   "execution_count": 134,
   "metadata": {},
   "outputs": [
    {
     "data": {
      "text/plain": [
       "Text(0, 0.5, 'Number of TED Talks')"
      ]
     },
     "execution_count": 134,
     "metadata": {},
     "output_type": "execute_result"
    },
    {
     "data": {
      "image/png": "[encoded data removed]",
      "text/plain": [
       "<Figure size 432x288 with 1 Axes>"
      ]
     },
     "metadata": {
      "needs_background": "light"
     },
     "output_type": "display_data"
    }
   ],
   "source": [
    "ax = df1['views'].hist(bins=30)\n",
    "ax.set_xlabel(\"Number of Views\")\n",
    "ax.set_ylabel(\"Number of TED Talks\")"
   ]
  },
  {
   "cell_type": "code",
   "execution_count": 135,
   "metadata": {},
   "outputs": [
    {
     "data": {
      "text/plain": [
       "Text(0, 0.5, 'Number of TED Talks')"
      ]
     },
     "execution_count": 135,
     "metadata": {},
     "output_type": "execute_result"
    },
    {
     "data": {
      "image/png": "[encoded data removed]",
      "text/plain": [
       "<Figure size 432x288 with 1 Axes>"
      ]
     },
     "metadata": {
      "needs_background": "light"
     },
     "output_type": "display_data"
    }
   ],
   "source": [
    "ax = df1['duration'].hist(bins=30)\n",
    "ax.set_xlabel(\"Duration of TED Talk in Seconds\")\n",
    "ax.set_ylabel(\"Number of TED Talks\")"
   ]
  },
  {
   "cell_type": "code",
   "execution_count": 136,
   "metadata": {},
   "outputs": [
    {
     "data": {
      "text/plain": [
       "Text(0, 0.5, 'Number of TED Talks')"
      ]
     },
     "execution_count": 136,
     "metadata": {},
     "output_type": "execute_result"
    },
    {
     "data": {
      "image/png": "[encoded data removed]",
      "text/plain": [
       "<Figure size 432x288 with 1 Axes>"
      ]
     },
     "metadata": {
      "needs_background": "light"
     },
     "output_type": "display_data"
    }
   ],
   "source": [
    "ax = df1['comments'].hist(bins=30)\n",
    "ax.set_xlabel(\"Number of Comments\")\n",
    "ax.set_ylabel(\"Number of TED Talks\")"
   ]
  },
  {
   "cell_type": "code",
   "execution_count": 137,
   "metadata": {},
   "outputs": [
    {
     "data": {
      "text/plain": [
       "Text(0, 0.5, 'Number of TED Talks')"
      ]
     },
     "execution_count": 137,
     "metadata": {},
     "output_type": "execute_result"
    },
    {
     "data": {
      "image/png": "[encoded data removed]",
      "text/plain": [
       "<Figure size 432x288 with 1 Axes>"
      ]
     },
     "metadata": {
      "needs_background": "light"
     },
     "output_type": "display_data"
    }
   ],
   "source": [
    "ax = df1['languages'].hist(bins=30)\n",
    "ax.set_xlabel(\"Number of Languages TED Talk Released In\")\n",
    "ax.set_ylabel(\"Number of TED Talks\")"
   ]
  },
  {
   "cell_type": "code",
   "execution_count": 9,
   "metadata": {},
   "outputs": [
    {
     "data": {
      "text/html": [
       "<div>\n",
       "<style scoped>\n",
       "    .dataframe tbody tr th:only-of-type {\n",
       "        vertical-align: middle;\n",
       "    }\n",
       "\n",
       "    .dataframe tbody tr th {\n",
       "        vertical-align: top;\n",
       "    }\n",
       "\n",
       "    .dataframe thead th {\n",
       "        text-align: right;\n",
       "    }\n",
       "</style>\n",
       "<table border=\"1\" class=\"dataframe\">\n",
       "  <thead>\n",
       "    <tr style=\"text-align: right;\">\n",
       "      <th></th>\n",
       "      <th>main_speaker</th>\n",
       "      <th>title</th>\n",
       "      <th>views</th>\n",
       "    </tr>\n",
       "  </thead>\n",
       "  <tbody>\n",
       "    <tr>\n",
       "      <th>0</th>\n",
       "      <td>Ken Robinson</td>\n",
       "      <td>Do schools kill creativity?</td>\n",
       "      <td>47227110</td>\n",
       "    </tr>\n",
       "    <tr>\n",
       "      <th>1346</th>\n",
       "      <td>Amy Cuddy</td>\n",
       "      <td>Your body language may shape who you are</td>\n",
       "      <td>43155405</td>\n",
       "    </tr>\n",
       "    <tr>\n",
       "      <th>677</th>\n",
       "      <td>Simon Sinek</td>\n",
       "      <td>How great leaders inspire action</td>\n",
       "      <td>34309432</td>\n",
       "    </tr>\n",
       "    <tr>\n",
       "      <th>837</th>\n",
       "      <td>Brené Brown</td>\n",
       "      <td>The power of vulnerability</td>\n",
       "      <td>31168150</td>\n",
       "    </tr>\n",
       "    <tr>\n",
       "      <th>452</th>\n",
       "      <td>Mary Roach</td>\n",
       "      <td>10 things you didn't know about orgasm</td>\n",
       "      <td>22270883</td>\n",
       "    </tr>\n",
       "    <tr>\n",
       "      <th>1776</th>\n",
       "      <td>Julian Treasure</td>\n",
       "      <td>How to speak so that people want to listen</td>\n",
       "      <td>21594632</td>\n",
       "    </tr>\n",
       "    <tr>\n",
       "      <th>201</th>\n",
       "      <td>Jill Bolte Taylor</td>\n",
       "      <td>My stroke of insight</td>\n",
       "      <td>21190883</td>\n",
       "    </tr>\n",
       "    <tr>\n",
       "      <th>5</th>\n",
       "      <td>Tony Robbins</td>\n",
       "      <td>Why we do what we do</td>\n",
       "      <td>20685401</td>\n",
       "    </tr>\n",
       "    <tr>\n",
       "      <th>2114</th>\n",
       "      <td>James Veitch</td>\n",
       "      <td>This is what happens when you reply to spam email</td>\n",
       "      <td>20475972</td>\n",
       "    </tr>\n",
       "    <tr>\n",
       "      <th>1416</th>\n",
       "      <td>Cameron Russell</td>\n",
       "      <td>Looks aren't everything. Believe me, I'm a model.</td>\n",
       "      <td>19787465</td>\n",
       "    </tr>\n",
       "  </tbody>\n",
       "</table>\n",
       "</div>"
      ],
      "text/plain": [
       "           main_speaker                                              title  \\\n",
       "0          Ken Robinson                        Do schools kill creativity?   \n",
       "1346          Amy Cuddy           Your body language may shape who you are   \n",
       "677         Simon Sinek                   How great leaders inspire action   \n",
       "837         Brené Brown                         The power of vulnerability   \n",
       "452          Mary Roach             10 things you didn't know about orgasm   \n",
       "1776    Julian Treasure         How to speak so that people want to listen   \n",
       "201   Jill Bolte Taylor                               My stroke of insight   \n",
       "5          Tony Robbins                               Why we do what we do   \n",
       "2114       James Veitch  This is what happens when you reply to spam email   \n",
       "1416    Cameron Russell  Looks aren't everything. Believe me, I'm a model.   \n",
       "\n",
       "         views  \n",
       "0     47227110  \n",
       "1346  43155405  \n",
       "677   34309432  \n",
       "837   31168150  \n",
       "452   22270883  \n",
       "1776  21594632  \n",
       "201   21190883  \n",
       "5     20685401  \n",
       "2114  20475972  \n",
       "1416  19787465  "
      ]
     },
     "execution_count": 9,
     "metadata": {},
     "output_type": "execute_result"
    }
   ],
   "source": [
    "#Most Popular Ted Talks\n",
    "popular_talk = df1[['main_speaker','title', 'views']].sort_values('views', ascending = False)[:10]\n",
    "popular_talk"
   ]
  },
  {
   "cell_type": "markdown",
   "metadata": {},
   "source": [
    "### There are only two speakers whose Ted talk views have crossed 40 Million Mark"
   ]
  },
  {
   "cell_type": "code",
   "execution_count": 10,
   "metadata": {},
   "outputs": [
    {
     "data": {
      "text/plain": [
       "<Figure size 432x288 with 0 Axes>"
      ]
     },
     "metadata": {},
     "output_type": "display_data"
    },
    {
     "data": {
      "image/png": "[encoded data removed]",
      "text/plain": [
       "<Figure size 720x432 with 1 Axes>"
      ]
     },
     "metadata": {
      "needs_background": "light"
     },
     "output_type": "display_data"
    }
   ],
   "source": [
    "ax = plt.figure()\n",
    "ax = popular_talk.plot(kind='bar',x='main_speaker', y='views',figsize=[10,6])\n",
    "ax.set_xlabel(\"main_speaker\")\n",
    "ax.set_ylabel(\"views\")\n",
    "ax.set_xticklabels(popular_talk['main_speaker'], rotation= 80)\n",
    "ax = plt.tight_layout()\n",
    "ax = plt.show()"
   ]
  },
  {
   "cell_type": "code",
   "execution_count": 11,
   "metadata": {},
   "outputs": [
    {
     "data": {
      "text/plain": [
       "count    2.550000e+03\n",
       "mean     1.698297e+06\n",
       "std      2.498479e+06\n",
       "min      5.044300e+04\n",
       "25%      7.557928e+05\n",
       "50%      1.124524e+06\n",
       "75%      1.700760e+06\n",
       "max      4.722711e+07\n",
       "Name: views, dtype: float64"
      ]
     },
     "execution_count": 11,
     "metadata": {},
     "output_type": "execute_result"
    }
   ],
   "source": [
    "df1['views'].describe()"
   ]
  },
  {
   "cell_type": "markdown",
   "metadata": {},
   "source": [
    "#### The above visulaization of views suggests a very high average level of popularity of TED Talks.  We see the average number of TED Talks views is 1.6 million. "
   ]
  },
  {
   "cell_type": "code",
   "execution_count": 12,
   "metadata": {},
   "outputs": [
    {
     "data": {
      "text/plain": [
       "count    2550.000000\n",
       "mean      191.562353\n",
       "std       282.315223\n",
       "min         2.000000\n",
       "25%        63.000000\n",
       "50%       118.000000\n",
       "75%       221.750000\n",
       "max      6404.000000\n",
       "Name: comments, dtype: float64"
      ]
     },
     "execution_count": 12,
     "metadata": {},
     "output_type": "execute_result"
    }
   ],
   "source": [
    "#Now considering the comments and analyszing the relation between views and comments\n",
    "df1['comments'].describe()"
   ]
  },
  {
   "cell_type": "markdown",
   "metadata": {},
   "source": [
    "#### So we observe that  average number of comments is 191.56 with a high standard deviation of around 282, a value even higher than mean, thus suggesting it may be sensitive to outliers. The minimum number of commenst on any Ted talk is 2 and the maimum is 6404, so there is huge variation between minumum and maximum comments made on Ted talk. Median of comments is 118"
   ]
  },
  {
   "cell_type": "code",
   "execution_count": 13,
   "metadata": {},
   "outputs": [
    {
     "data": {
      "text/plain": [
       "count    2550.000000\n",
       "mean       27.326275\n",
       "std         9.563452\n",
       "min         0.000000\n",
       "25%        23.000000\n",
       "50%        28.000000\n",
       "75%        33.000000\n",
       "max        72.000000\n",
       "Name: languages, dtype: float64"
      ]
     },
     "execution_count": 13,
     "metadata": {},
     "output_type": "execute_result"
    }
   ],
   "source": [
    "df1['languages'].describe()"
   ]
  },
  {
   "cell_type": "code",
   "execution_count": 141,
   "metadata": {},
   "outputs": [
    {
     "data": {
      "text/html": [
       "<div>\n",
       "<style scoped>\n",
       "    .dataframe tbody tr th:only-of-type {\n",
       "        vertical-align: middle;\n",
       "    }\n",
       "\n",
       "    .dataframe tbody tr th {\n",
       "        vertical-align: top;\n",
       "    }\n",
       "\n",
       "    .dataframe thead th {\n",
       "        text-align: right;\n",
       "    }\n",
       "</style>\n",
       "<table border=\"1\" class=\"dataframe\">\n",
       "  <thead>\n",
       "    <tr style=\"text-align: right;\">\n",
       "      <th></th>\n",
       "      <th>main_speaker</th>\n",
       "      <th>title</th>\n",
       "      <th>views</th>\n",
       "      <th>languages</th>\n",
       "    </tr>\n",
       "  </thead>\n",
       "  <tbody>\n",
       "    <tr>\n",
       "      <th>973</th>\n",
       "      <td>Matt Cutts</td>\n",
       "      <td>Try something new for 30 days</td>\n",
       "      <td>8838874</td>\n",
       "      <td>72</td>\n",
       "    </tr>\n",
       "    <tr>\n",
       "      <th>606</th>\n",
       "      <td>Derek Sivers</td>\n",
       "      <td>Weird, or just different?</td>\n",
       "      <td>2835976</td>\n",
       "      <td>69</td>\n",
       "    </tr>\n",
       "    <tr>\n",
       "      <th>47</th>\n",
       "      <td>Richard St. John</td>\n",
       "      <td>8 secrets of success</td>\n",
       "      <td>10841210</td>\n",
       "      <td>66</td>\n",
       "    </tr>\n",
       "    <tr>\n",
       "      <th>653</th>\n",
       "      <td>Derek Sivers</td>\n",
       "      <td>How to start a movement</td>\n",
       "      <td>6475731</td>\n",
       "      <td>65</td>\n",
       "    </tr>\n",
       "    <tr>\n",
       "      <th>479</th>\n",
       "      <td>Arthur Benjamin</td>\n",
       "      <td>Teach statistics before calculus!</td>\n",
       "      <td>2175141</td>\n",
       "      <td>64</td>\n",
       "    </tr>\n",
       "    <tr>\n",
       "      <th>239</th>\n",
       "      <td>Murray Gell-Mann</td>\n",
       "      <td>The ancestor of language</td>\n",
       "      <td>785293</td>\n",
       "      <td>61</td>\n",
       "    </tr>\n",
       "    <tr>\n",
       "      <th>0</th>\n",
       "      <td>Ken Robinson</td>\n",
       "      <td>Do schools kill creativity?</td>\n",
       "      <td>47227110</td>\n",
       "      <td>60</td>\n",
       "    </tr>\n",
       "    <tr>\n",
       "      <th>940</th>\n",
       "      <td>Terry Moore</td>\n",
       "      <td>How to tie your shoes</td>\n",
       "      <td>6263759</td>\n",
       "      <td>59</td>\n",
       "    </tr>\n",
       "    <tr>\n",
       "      <th>758</th>\n",
       "      <td>Derek Sivers</td>\n",
       "      <td>Keep your goals to yourself</td>\n",
       "      <td>4657799</td>\n",
       "      <td>58</td>\n",
       "    </tr>\n",
       "    <tr>\n",
       "      <th>654</th>\n",
       "      <td>Adora Svitak</td>\n",
       "      <td>What adults can learn from kids</td>\n",
       "      <td>4782854</td>\n",
       "      <td>58</td>\n",
       "    </tr>\n",
       "  </tbody>\n",
       "</table>\n",
       "</div>"
      ],
      "text/plain": [
       "         main_speaker                              title     views  languages\n",
       "973        Matt Cutts      Try something new for 30 days   8838874         72\n",
       "606      Derek Sivers          Weird, or just different?   2835976         69\n",
       "47   Richard St. John               8 secrets of success  10841210         66\n",
       "653      Derek Sivers            How to start a movement   6475731         65\n",
       "479   Arthur Benjamin  Teach statistics before calculus!   2175141         64\n",
       "239  Murray Gell-Mann           The ancestor of language    785293         61\n",
       "0        Ken Robinson        Do schools kill creativity?  47227110         60\n",
       "940       Terry Moore              How to tie your shoes   6263759         59\n",
       "758      Derek Sivers        Keep your goals to yourself   4657799         58\n",
       "654      Adora Svitak    What adults can learn from kids   4782854         58"
      ]
     },
     "execution_count": 141,
     "metadata": {},
     "output_type": "execute_result"
    }
   ],
   "source": [
    "# Does Most Popular Ted Talks has release in more languages\n",
    "popular_talk1 = df1[['main_speaker','title', 'views', 'languages']].sort_values('languages', ascending = False)[:10]\n",
    "popular_talk1"
   ]
  },
  {
   "cell_type": "code",
   "execution_count": 142,
   "metadata": {},
   "outputs": [
    {
     "data": {
      "text/plain": [
       "<Figure size 432x288 with 0 Axes>"
      ]
     },
     "metadata": {},
     "output_type": "display_data"
    },
    {
     "data": {
      "image/png": "[encoded data removed]",
      "text/plain": [
       "<Figure size 720x432 with 1 Axes>"
      ]
     },
     "metadata": {
      "needs_background": "light"
     },
     "output_type": "display_data"
    }
   ],
   "source": [
    "ax = plt.figure()\n",
    "ax = popular_talk1.plot(kind='bar',x='main_speaker', y='languages',figsize=[10,6])\n",
    "ax.set_xlabel(\"main_speaker\")\n",
    "ax.set_ylabel(\"languages\")\n",
    "ax.set_xticklabels(popular_talk['main_speaker'], rotation= 80)\n",
    "ax = plt.tight_layout()\n",
    "ax = plt.show()"
   ]
  },
  {
   "cell_type": "markdown",
   "metadata": {},
   "source": [
    "### Calculating the Relation between the Features"
   ]
  },
  {
   "cell_type": "markdown",
   "metadata": {},
   "source": [
    "### 1. Between 'views' and 'comments'"
   ]
  },
  {
   "cell_type": "code",
   "execution_count": 16,
   "metadata": {},
   "outputs": [
    {
     "data": {
      "text/plain": [
       "array([[6.24239917e+12, 3.74502264e+08],\n",
       "       [3.74502264e+08, 7.97018853e+04]])"
      ]
     },
     "execution_count": 16,
     "metadata": {},
     "output_type": "execute_result"
    }
   ],
   "source": [
    "from numpy import cov\n",
    "covariance = cov(df1['views'], df1['comments'])\n",
    "covariance"
   ]
  },
  {
   "cell_type": "markdown",
   "metadata": {},
   "source": [
    "The covariance between the two variables is positive, suggesting the variables change in the same direction as we expect. This can be further analyzed using Pearson correlation coefficient which is used to summarize the strength of the linear relationship between two data samples."
   ]
  },
  {
   "cell_type": "code",
   "execution_count": 17,
   "metadata": {},
   "outputs": [
    {
     "name": "stdout",
     "output_type": "stream",
     "text": [
      "Pearsons correlation between views & comments: 0.531\n"
     ]
    }
   ],
   "source": [
    "from scipy.stats import pearsonr\n",
    "corr, _ = pearsonr(df1['views'], df1['comments'])\n",
    "print('Pearsons correlation between views & comments: %.3f' % corr)"
   ]
  },
  {
   "cell_type": "markdown",
   "metadata": {},
   "source": [
    "#### So, we find that two variables are positively correlated with correlation value as 0.531. This suggests a high level of correlation, e.g. a value above 0.5, which further indicates a medium to strong correlation between the two quantities. Below plot shows how the two variables are correlated using sns joinplot"
   ]
  },
  {
   "cell_type": "code",
   "execution_count": 18,
   "metadata": {},
   "outputs": [
    {
     "data": {
      "text/plain": [
       "<seaborn.axisgrid.JointGrid at 0x19e7164b0f0>"
      ]
     },
     "execution_count": 18,
     "metadata": {},
     "output_type": "execute_result"
    },
    {
     "data": {
      "image/png": "[encoded data removed]",
      "text/plain": [
       "<Figure size 432x432 with 3 Axes>"
      ]
     },
     "metadata": {
      "needs_background": "light"
     },
     "output_type": "display_data"
    }
   ],
   "source": [
    "sns.jointplot(data=df1, x='comments', y='views', kind='scatter')"
   ]
  },
  {
   "cell_type": "code",
   "execution_count": 19,
   "metadata": {},
   "outputs": [
    {
     "data": {
      "text/html": [
       "<div>\n",
       "<style scoped>\n",
       "    .dataframe tbody tr th:only-of-type {\n",
       "        vertical-align: middle;\n",
       "    }\n",
       "\n",
       "    .dataframe tbody tr th {\n",
       "        vertical-align: top;\n",
       "    }\n",
       "\n",
       "    .dataframe thead th {\n",
       "        text-align: right;\n",
       "    }\n",
       "</style>\n",
       "<table border=\"1\" class=\"dataframe\">\n",
       "  <thead>\n",
       "    <tr style=\"text-align: right;\">\n",
       "      <th></th>\n",
       "      <th>main_speaker</th>\n",
       "      <th>title</th>\n",
       "      <th>views</th>\n",
       "      <th>comments</th>\n",
       "    </tr>\n",
       "  </thead>\n",
       "  <tbody>\n",
       "    <tr>\n",
       "      <th>96</th>\n",
       "      <td>Richard Dawkins</td>\n",
       "      <td>Militant atheism</td>\n",
       "      <td>4374792</td>\n",
       "      <td>6404</td>\n",
       "    </tr>\n",
       "    <tr>\n",
       "      <th>0</th>\n",
       "      <td>Ken Robinson</td>\n",
       "      <td>Do schools kill creativity?</td>\n",
       "      <td>47227110</td>\n",
       "      <td>4553</td>\n",
       "    </tr>\n",
       "    <tr>\n",
       "      <th>644</th>\n",
       "      <td>Sam Harris</td>\n",
       "      <td>Science can answer moral questions</td>\n",
       "      <td>3433437</td>\n",
       "      <td>3356</td>\n",
       "    </tr>\n",
       "    <tr>\n",
       "      <th>201</th>\n",
       "      <td>Jill Bolte Taylor</td>\n",
       "      <td>My stroke of insight</td>\n",
       "      <td>21190883</td>\n",
       "      <td>2877</td>\n",
       "    </tr>\n",
       "    <tr>\n",
       "      <th>1787</th>\n",
       "      <td>David Chalmers</td>\n",
       "      <td>How do you explain consciousness?</td>\n",
       "      <td>2162764</td>\n",
       "      <td>2673</td>\n",
       "    </tr>\n",
       "    <tr>\n",
       "      <th>954</th>\n",
       "      <td>Janet Echelman</td>\n",
       "      <td>Taking imagination seriously</td>\n",
       "      <td>1832930</td>\n",
       "      <td>2492</td>\n",
       "    </tr>\n",
       "    <tr>\n",
       "      <th>840</th>\n",
       "      <td>Lesley Hazleton</td>\n",
       "      <td>On reading the Koran</td>\n",
       "      <td>1847256</td>\n",
       "      <td>2374</td>\n",
       "    </tr>\n",
       "    <tr>\n",
       "      <th>1346</th>\n",
       "      <td>Amy Cuddy</td>\n",
       "      <td>Your body language may shape who you are</td>\n",
       "      <td>43155405</td>\n",
       "      <td>2290</td>\n",
       "    </tr>\n",
       "    <tr>\n",
       "      <th>661</th>\n",
       "      <td>Michael Specter</td>\n",
       "      <td>The danger of science denial</td>\n",
       "      <td>1838628</td>\n",
       "      <td>2272</td>\n",
       "    </tr>\n",
       "    <tr>\n",
       "      <th>677</th>\n",
       "      <td>Simon Sinek</td>\n",
       "      <td>How great leaders inspire action</td>\n",
       "      <td>34309432</td>\n",
       "      <td>1930</td>\n",
       "    </tr>\n",
       "  </tbody>\n",
       "</table>\n",
       "</div>"
      ],
      "text/plain": [
       "           main_speaker                                     title     views  \\\n",
       "96      Richard Dawkins                          Militant atheism   4374792   \n",
       "0          Ken Robinson               Do schools kill creativity?  47227110   \n",
       "644          Sam Harris        Science can answer moral questions   3433437   \n",
       "201   Jill Bolte Taylor                      My stroke of insight  21190883   \n",
       "1787     David Chalmers         How do you explain consciousness?   2162764   \n",
       "954      Janet Echelman              Taking imagination seriously   1832930   \n",
       "840     Lesley Hazleton                      On reading the Koran   1847256   \n",
       "1346          Amy Cuddy  Your body language may shape who you are  43155405   \n",
       "661     Michael Specter              The danger of science denial   1838628   \n",
       "677         Simon Sinek          How great leaders inspire action  34309432   \n",
       "\n",
       "      comments  \n",
       "96        6404  \n",
       "0         4553  \n",
       "644       3356  \n",
       "201       2877  \n",
       "1787      2673  \n",
       "954       2492  \n",
       "840       2374  \n",
       "1346      2290  \n",
       "661       2272  \n",
       "677       1930  "
      ]
     },
     "execution_count": 19,
     "metadata": {},
     "output_type": "execute_result"
    }
   ],
   "source": [
    "popular_cmnt = df1[['main_speaker','title', 'views', 'comments']].sort_values('comments', ascending = False)\n",
    "popular_cmnt.head(10)"
   ]
  },
  {
   "cell_type": "markdown",
   "metadata": {},
   "source": [
    "### 2. Between 'views' and 'languages'"
   ]
  },
  {
   "cell_type": "code",
   "execution_count": 20,
   "metadata": {},
   "outputs": [
    {
     "data": {
      "text/plain": [
       "(array([[6.24239917e+12, 9.02295794e+06],\n",
       "        [9.02295794e+06, 9.14596075e+01]]),\n",
       " array([[79701.88528281,   859.33821983],\n",
       "        [  859.33821983,    91.45960754]]))"
      ]
     },
     "execution_count": 20,
     "metadata": {},
     "output_type": "execute_result"
    }
   ],
   "source": [
    "from numpy import cov\n",
    "covar1 = cov(df1['views'], df1['languages'])\n",
    "covar2 = cov(df1['comments'], df1['languages'])\n",
    "covar1, covar2"
   ]
  },
  {
   "cell_type": "code",
   "execution_count": 21,
   "metadata": {},
   "outputs": [
    {
     "name": "stdout",
     "output_type": "stream",
     "text": [
      "Pearsons correlation between views & languages: 0.378\n",
      "Pearsons correlation between comments & languages: 0.318\n"
     ]
    }
   ],
   "source": [
    "from scipy.stats import pearsonr\n",
    "corr1, _ = pearsonr(df1['views'], df1['languages'])\n",
    "print('Pearsons correlation between views & languages: %.3f' % corr1)\n",
    "corr2, _ = pearsonr(df1['comments'], df1['languages'])\n",
    "print('Pearsons correlation between comments & languages: %.3f' % corr2)"
   ]
  },
  {
   "cell_type": "code",
   "execution_count": 22,
   "metadata": {},
   "outputs": [
    {
     "data": {
      "text/plain": [
       "<seaborn.axisgrid.JointGrid at 0x19e719ab7b8>"
      ]
     },
     "execution_count": 22,
     "metadata": {},
     "output_type": "execute_result"
    },
    {
     "data": {
      "image/png": "[encoded data removed]",
      "text/plain": [
       "<Figure size 432x432 with 3 Axes>"
      ]
     },
     "metadata": {
      "needs_background": "light"
     },
     "output_type": "display_data"
    }
   ],
   "source": [
    "sns.jointplot(data=df1, x='languages', y='views', kind='scatter')"
   ]
  },
  {
   "cell_type": "code",
   "execution_count": 23,
   "metadata": {},
   "outputs": [
    {
     "data": {
      "text/plain": [
       "<seaborn.axisgrid.JointGrid at 0x19e720ee0b8>"
      ]
     },
     "execution_count": 23,
     "metadata": {},
     "output_type": "execute_result"
    },
    {
     "data": {
      "image/png": "[encoded data removed]",
      "text/plain": [
       "<Figure size 432x432 with 3 Axes>"
      ]
     },
     "metadata": {
      "needs_background": "light"
     },
     "output_type": "display_data"
    }
   ],
   "source": [
    "sns.jointplot(data=df1, x='languages', y='comments', kind='scatter')"
   ]
  },
  {
   "cell_type": "markdown",
   "metadata": {},
   "source": [
    "#### Observation - "
   ]
  },
  {
   "cell_type": "code",
   "execution_count": 24,
   "metadata": {},
   "outputs": [
    {
     "data": {
      "text/html": [
       "<div>\n",
       "<style scoped>\n",
       "    .dataframe tbody tr th:only-of-type {\n",
       "        vertical-align: middle;\n",
       "    }\n",
       "\n",
       "    .dataframe tbody tr th {\n",
       "        vertical-align: top;\n",
       "    }\n",
       "\n",
       "    .dataframe thead th {\n",
       "        text-align: right;\n",
       "    }\n",
       "</style>\n",
       "<table border=\"1\" class=\"dataframe\">\n",
       "  <thead>\n",
       "    <tr style=\"text-align: right;\">\n",
       "      <th></th>\n",
       "      <th>main_speaker</th>\n",
       "      <th>title</th>\n",
       "      <th>views</th>\n",
       "      <th>comments</th>\n",
       "      <th>languages</th>\n",
       "    </tr>\n",
       "  </thead>\n",
       "  <tbody>\n",
       "    <tr>\n",
       "      <th>973</th>\n",
       "      <td>Matt Cutts</td>\n",
       "      <td>Try something new for 30 days</td>\n",
       "      <td>8838874</td>\n",
       "      <td>736</td>\n",
       "      <td>72</td>\n",
       "    </tr>\n",
       "    <tr>\n",
       "      <th>606</th>\n",
       "      <td>Derek Sivers</td>\n",
       "      <td>Weird, or just different?</td>\n",
       "      <td>2835976</td>\n",
       "      <td>238</td>\n",
       "      <td>69</td>\n",
       "    </tr>\n",
       "    <tr>\n",
       "      <th>47</th>\n",
       "      <td>Richard St. John</td>\n",
       "      <td>8 secrets of success</td>\n",
       "      <td>10841210</td>\n",
       "      <td>578</td>\n",
       "      <td>66</td>\n",
       "    </tr>\n",
       "    <tr>\n",
       "      <th>653</th>\n",
       "      <td>Derek Sivers</td>\n",
       "      <td>How to start a movement</td>\n",
       "      <td>6475731</td>\n",
       "      <td>422</td>\n",
       "      <td>65</td>\n",
       "    </tr>\n",
       "    <tr>\n",
       "      <th>479</th>\n",
       "      <td>Arthur Benjamin</td>\n",
       "      <td>Teach statistics before calculus!</td>\n",
       "      <td>2175141</td>\n",
       "      <td>398</td>\n",
       "      <td>64</td>\n",
       "    </tr>\n",
       "    <tr>\n",
       "      <th>239</th>\n",
       "      <td>Murray Gell-Mann</td>\n",
       "      <td>The ancestor of language</td>\n",
       "      <td>785293</td>\n",
       "      <td>76</td>\n",
       "      <td>61</td>\n",
       "    </tr>\n",
       "    <tr>\n",
       "      <th>0</th>\n",
       "      <td>Ken Robinson</td>\n",
       "      <td>Do schools kill creativity?</td>\n",
       "      <td>47227110</td>\n",
       "      <td>4553</td>\n",
       "      <td>60</td>\n",
       "    </tr>\n",
       "    <tr>\n",
       "      <th>940</th>\n",
       "      <td>Terry Moore</td>\n",
       "      <td>How to tie your shoes</td>\n",
       "      <td>6263759</td>\n",
       "      <td>309</td>\n",
       "      <td>59</td>\n",
       "    </tr>\n",
       "    <tr>\n",
       "      <th>758</th>\n",
       "      <td>Derek Sivers</td>\n",
       "      <td>Keep your goals to yourself</td>\n",
       "      <td>4657799</td>\n",
       "      <td>582</td>\n",
       "      <td>58</td>\n",
       "    </tr>\n",
       "    <tr>\n",
       "      <th>654</th>\n",
       "      <td>Adora Svitak</td>\n",
       "      <td>What adults can learn from kids</td>\n",
       "      <td>4782854</td>\n",
       "      <td>795</td>\n",
       "      <td>58</td>\n",
       "    </tr>\n",
       "  </tbody>\n",
       "</table>\n",
       "</div>"
      ],
      "text/plain": [
       "         main_speaker                              title     views  comments  \\\n",
       "973        Matt Cutts      Try something new for 30 days   8838874       736   \n",
       "606      Derek Sivers          Weird, or just different?   2835976       238   \n",
       "47   Richard St. John               8 secrets of success  10841210       578   \n",
       "653      Derek Sivers            How to start a movement   6475731       422   \n",
       "479   Arthur Benjamin  Teach statistics before calculus!   2175141       398   \n",
       "239  Murray Gell-Mann           The ancestor of language    785293        76   \n",
       "0        Ken Robinson        Do schools kill creativity?  47227110      4553   \n",
       "940       Terry Moore              How to tie your shoes   6263759       309   \n",
       "758      Derek Sivers        Keep your goals to yourself   4657799       582   \n",
       "654      Adora Svitak    What adults can learn from kids   4782854       795   \n",
       "\n",
       "     languages  \n",
       "973         72  \n",
       "606         69  \n",
       "47          66  \n",
       "653         65  \n",
       "479         64  \n",
       "239         61  \n",
       "0           60  \n",
       "940         59  \n",
       "758         58  \n",
       "654         58  "
      ]
     },
     "execution_count": 24,
     "metadata": {},
     "output_type": "execute_result"
    }
   ],
   "source": [
    "popular_lang = df1[['main_speaker','title', 'views', 'comments','languages']].sort_values('languages', ascending = False)\n",
    "popular_lang.head(10)"
   ]
  },
  {
   "cell_type": "markdown",
   "metadata": {},
   "source": [
    "### 3. Between 'views' and 'durations'"
   ]
  },
  {
   "cell_type": "code",
   "execution_count": 25,
   "metadata": {},
   "outputs": [
    {
     "data": {
      "text/plain": [
       "array([[6.24239917e+12, 7.59094909e+05],\n",
       "       [7.59094909e+05, 3.88563431e+01]])"
      ]
     },
     "execution_count": 25,
     "metadata": {},
     "output_type": "execute_result"
    }
   ],
   "source": [
    "df1['duration'] = df1['duration'].apply(lambda s: s/60)\n",
    "from numpy import cov\n",
    "covar3 = cov(df1['views'], df1['duration'])\n",
    "covar3"
   ]
  },
  {
   "cell_type": "code",
   "execution_count": 26,
   "metadata": {},
   "outputs": [
    {
     "name": "stdout",
     "output_type": "stream",
     "text": [
      "Pearsons correlation between views & duration: 0.049\n"
     ]
    }
   ],
   "source": [
    "from scipy.stats import pearsonr\n",
    "corr3, _ = pearsonr(df1['views'], df1['duration'])\n",
    "print('Pearsons correlation between views & duration: %.3f' % corr3)"
   ]
  },
  {
   "cell_type": "code",
   "execution_count": 27,
   "metadata": {},
   "outputs": [
    {
     "data": {
      "text/plain": [
       "<seaborn.axisgrid.JointGrid at 0x19e71326860>"
      ]
     },
     "execution_count": 27,
     "metadata": {},
     "output_type": "execute_result"
    },
    {
     "data": {
      "image/png": "[encoded data removed]",
      "text/plain": [
       "<Figure size 432x432 with 3 Axes>"
      ]
     },
     "metadata": {
      "needs_background": "light"
     },
     "output_type": "display_data"
    }
   ],
   "source": [
    "sns.jointplot(data=df1, x='duration', y='views', kind='scatter')"
   ]
  },
  {
   "cell_type": "markdown",
   "metadata": {},
   "source": [
    "#### Observation - so can be observed that the number of views decreases with increase in the duration of talk. So the ted talks which are more popular should have smaller duration talks than others."
   ]
  },
  {
   "cell_type": "code",
   "execution_count": 28,
   "metadata": {},
   "outputs": [
    {
     "data": {
      "text/html": [
       "<div>\n",
       "<style scoped>\n",
       "    .dataframe tbody tr th:only-of-type {\n",
       "        vertical-align: middle;\n",
       "    }\n",
       "\n",
       "    .dataframe tbody tr th {\n",
       "        vertical-align: top;\n",
       "    }\n",
       "\n",
       "    .dataframe thead th {\n",
       "        text-align: right;\n",
       "    }\n",
       "</style>\n",
       "<table border=\"1\" class=\"dataframe\">\n",
       "  <thead>\n",
       "    <tr style=\"text-align: right;\">\n",
       "      <th></th>\n",
       "      <th>main_speaker</th>\n",
       "      <th>title</th>\n",
       "      <th>views</th>\n",
       "      <th>duration</th>\n",
       "    </tr>\n",
       "  </thead>\n",
       "  <tbody>\n",
       "    <tr>\n",
       "      <th>0</th>\n",
       "      <td>Ken Robinson</td>\n",
       "      <td>Do schools kill creativity?</td>\n",
       "      <td>47227110</td>\n",
       "      <td>19.400000</td>\n",
       "    </tr>\n",
       "    <tr>\n",
       "      <th>1346</th>\n",
       "      <td>Amy Cuddy</td>\n",
       "      <td>Your body language may shape who you are</td>\n",
       "      <td>43155405</td>\n",
       "      <td>21.033333</td>\n",
       "    </tr>\n",
       "    <tr>\n",
       "      <th>677</th>\n",
       "      <td>Simon Sinek</td>\n",
       "      <td>How great leaders inspire action</td>\n",
       "      <td>34309432</td>\n",
       "      <td>18.066667</td>\n",
       "    </tr>\n",
       "    <tr>\n",
       "      <th>837</th>\n",
       "      <td>Brené Brown</td>\n",
       "      <td>The power of vulnerability</td>\n",
       "      <td>31168150</td>\n",
       "      <td>20.316667</td>\n",
       "    </tr>\n",
       "    <tr>\n",
       "      <th>452</th>\n",
       "      <td>Mary Roach</td>\n",
       "      <td>10 things you didn't know about orgasm</td>\n",
       "      <td>22270883</td>\n",
       "      <td>16.716667</td>\n",
       "    </tr>\n",
       "    <tr>\n",
       "      <th>1776</th>\n",
       "      <td>Julian Treasure</td>\n",
       "      <td>How to speak so that people want to listen</td>\n",
       "      <td>21594632</td>\n",
       "      <td>9.966667</td>\n",
       "    </tr>\n",
       "    <tr>\n",
       "      <th>201</th>\n",
       "      <td>Jill Bolte Taylor</td>\n",
       "      <td>My stroke of insight</td>\n",
       "      <td>21190883</td>\n",
       "      <td>18.316667</td>\n",
       "    </tr>\n",
       "    <tr>\n",
       "      <th>5</th>\n",
       "      <td>Tony Robbins</td>\n",
       "      <td>Why we do what we do</td>\n",
       "      <td>20685401</td>\n",
       "      <td>21.750000</td>\n",
       "    </tr>\n",
       "    <tr>\n",
       "      <th>2114</th>\n",
       "      <td>James Veitch</td>\n",
       "      <td>This is what happens when you reply to spam email</td>\n",
       "      <td>20475972</td>\n",
       "      <td>9.800000</td>\n",
       "    </tr>\n",
       "    <tr>\n",
       "      <th>1416</th>\n",
       "      <td>Cameron Russell</td>\n",
       "      <td>Looks aren't everything. Believe me, I'm a model.</td>\n",
       "      <td>19787465</td>\n",
       "      <td>9.616667</td>\n",
       "    </tr>\n",
       "  </tbody>\n",
       "</table>\n",
       "</div>"
      ],
      "text/plain": [
       "           main_speaker                                              title  \\\n",
       "0          Ken Robinson                        Do schools kill creativity?   \n",
       "1346          Amy Cuddy           Your body language may shape who you are   \n",
       "677         Simon Sinek                   How great leaders inspire action   \n",
       "837         Brené Brown                         The power of vulnerability   \n",
       "452          Mary Roach             10 things you didn't know about orgasm   \n",
       "1776    Julian Treasure         How to speak so that people want to listen   \n",
       "201   Jill Bolte Taylor                               My stroke of insight   \n",
       "5          Tony Robbins                               Why we do what we do   \n",
       "2114       James Veitch  This is what happens when you reply to spam email   \n",
       "1416    Cameron Russell  Looks aren't everything. Believe me, I'm a model.   \n",
       "\n",
       "         views   duration  \n",
       "0     47227110  19.400000  \n",
       "1346  43155405  21.033333  \n",
       "677   34309432  18.066667  \n",
       "837   31168150  20.316667  \n",
       "452   22270883  16.716667  \n",
       "1776  21594632   9.966667  \n",
       "201   21190883  18.316667  \n",
       "5     20685401  21.750000  \n",
       "2114  20475972   9.800000  \n",
       "1416  19787465   9.616667  "
      ]
     },
     "execution_count": 28,
     "metadata": {},
     "output_type": "execute_result"
    }
   ],
   "source": [
    "popular_talk2 = df1[['main_speaker','title', 'views','duration']].sort_values('views', ascending = False)\n",
    "popular_talk2.head(10)"
   ]
  },
  {
   "cell_type": "markdown",
   "metadata": {},
   "source": [
    "#### This doesn't seems to be necessarily TRUE though from the above sorted table on views"
   ]
  },
  {
   "cell_type": "code",
   "execution_count": 29,
   "metadata": {},
   "outputs": [
    {
     "data": {
      "text/html": [
       "<div>\n",
       "<style scoped>\n",
       "    .dataframe tbody tr th:only-of-type {\n",
       "        vertical-align: middle;\n",
       "    }\n",
       "\n",
       "    .dataframe tbody tr th {\n",
       "        vertical-align: top;\n",
       "    }\n",
       "\n",
       "    .dataframe thead th {\n",
       "        text-align: right;\n",
       "    }\n",
       "</style>\n",
       "<table border=\"1\" class=\"dataframe\">\n",
       "  <thead>\n",
       "    <tr style=\"text-align: right;\">\n",
       "      <th></th>\n",
       "      <th>comments</th>\n",
       "      <th>description</th>\n",
       "      <th>duration</th>\n",
       "      <th>event</th>\n",
       "      <th>film_date</th>\n",
       "      <th>languages</th>\n",
       "      <th>main_speaker</th>\n",
       "      <th>name</th>\n",
       "      <th>num_speaker</th>\n",
       "      <th>published_date</th>\n",
       "      <th>ratings</th>\n",
       "      <th>related_talks</th>\n",
       "      <th>speaker_occupation</th>\n",
       "      <th>tags</th>\n",
       "      <th>title</th>\n",
       "      <th>url</th>\n",
       "      <th>views</th>\n",
       "    </tr>\n",
       "  </thead>\n",
       "  <tbody>\n",
       "    <tr>\n",
       "      <th>0</th>\n",
       "      <td>4553</td>\n",
       "      <td>Sir Ken Robinson makes an entertaining and pro...</td>\n",
       "      <td>19.400000</td>\n",
       "      <td>TED2006</td>\n",
       "      <td>24-02-2006</td>\n",
       "      <td>60</td>\n",
       "      <td>Ken Robinson</td>\n",
       "      <td>Ken Robinson: Do schools kill creativity?</td>\n",
       "      <td>1</td>\n",
       "      <td>26-06-2006</td>\n",
       "      <td>[{'id': 7, 'name': 'Funny', 'count': 19645}, {...</td>\n",
       "      <td>[{'id': 865, 'hero': 'https://pe.tedcdn.com/im...</td>\n",
       "      <td>Author/educator</td>\n",
       "      <td>['children', 'creativity', 'culture', 'dance',...</td>\n",
       "      <td>Do schools kill creativity?</td>\n",
       "      <td>https://www.ted.com/talks/ken_robinson_says_sc...</td>\n",
       "      <td>47227110</td>\n",
       "    </tr>\n",
       "    <tr>\n",
       "      <th>1</th>\n",
       "      <td>265</td>\n",
       "      <td>With the same humor and humanity he exuded in ...</td>\n",
       "      <td>16.283333</td>\n",
       "      <td>TED2006</td>\n",
       "      <td>24-02-2006</td>\n",
       "      <td>43</td>\n",
       "      <td>Al Gore</td>\n",
       "      <td>Al Gore: Averting the climate crisis</td>\n",
       "      <td>1</td>\n",
       "      <td>26-06-2006</td>\n",
       "      <td>[{'id': 7, 'name': 'Funny', 'count': 544}, {'i...</td>\n",
       "      <td>[{'id': 243, 'hero': 'https://pe.tedcdn.com/im...</td>\n",
       "      <td>Climate advocate</td>\n",
       "      <td>['alternative energy', 'cars', 'climate change...</td>\n",
       "      <td>Averting the climate crisis</td>\n",
       "      <td>https://www.ted.com/talks/al_gore_on_averting_...</td>\n",
       "      <td>3200520</td>\n",
       "    </tr>\n",
       "  </tbody>\n",
       "</table>\n",
       "</div>"
      ],
      "text/plain": [
       "   comments                                        description   duration  \\\n",
       "0      4553  Sir Ken Robinson makes an entertaining and pro...  19.400000   \n",
       "1       265  With the same humor and humanity he exuded in ...  16.283333   \n",
       "\n",
       "     event   film_date  languages  main_speaker  \\\n",
       "0  TED2006  24-02-2006         60  Ken Robinson   \n",
       "1  TED2006  24-02-2006         43       Al Gore   \n",
       "\n",
       "                                        name  num_speaker published_date  \\\n",
       "0  Ken Robinson: Do schools kill creativity?            1     26-06-2006   \n",
       "1       Al Gore: Averting the climate crisis            1     26-06-2006   \n",
       "\n",
       "                                             ratings  \\\n",
       "0  [{'id': 7, 'name': 'Funny', 'count': 19645}, {...   \n",
       "1  [{'id': 7, 'name': 'Funny', 'count': 544}, {'i...   \n",
       "\n",
       "                                       related_talks speaker_occupation  \\\n",
       "0  [{'id': 865, 'hero': 'https://pe.tedcdn.com/im...    Author/educator   \n",
       "1  [{'id': 243, 'hero': 'https://pe.tedcdn.com/im...   Climate advocate   \n",
       "\n",
       "                                                tags  \\\n",
       "0  ['children', 'creativity', 'culture', 'dance',...   \n",
       "1  ['alternative energy', 'cars', 'climate change...   \n",
       "\n",
       "                         title  \\\n",
       "0  Do schools kill creativity?   \n",
       "1  Averting the climate crisis   \n",
       "\n",
       "                                                 url     views  \n",
       "0  https://www.ted.com/talks/ken_robinson_says_sc...  47227110  \n",
       "1  https://www.ted.com/talks/al_gore_on_averting_...   3200520  "
      ]
     },
     "execution_count": 29,
     "metadata": {},
     "output_type": "execute_result"
    }
   ],
   "source": [
    "df1.head(2)"
   ]
  },
  {
   "cell_type": "markdown",
   "metadata": {},
   "source": [
    "### Month wise analysis of Ted Talks presented"
   ]
  },
  {
   "cell_type": "code",
   "execution_count": 30,
   "metadata": {},
   "outputs": [
    {
     "data": {
      "text/html": [
       "<div>\n",
       "<style scoped>\n",
       "    .dataframe tbody tr th:only-of-type {\n",
       "        vertical-align: middle;\n",
       "    }\n",
       "\n",
       "    .dataframe tbody tr th {\n",
       "        vertical-align: top;\n",
       "    }\n",
       "\n",
       "    .dataframe thead th {\n",
       "        text-align: right;\n",
       "    }\n",
       "</style>\n",
       "<table border=\"1\" class=\"dataframe\">\n",
       "  <thead>\n",
       "    <tr style=\"text-align: right;\">\n",
       "      <th></th>\n",
       "      <th>comments</th>\n",
       "      <th>description</th>\n",
       "      <th>duration</th>\n",
       "      <th>event</th>\n",
       "      <th>film_date</th>\n",
       "      <th>languages</th>\n",
       "      <th>main_speaker</th>\n",
       "      <th>name</th>\n",
       "      <th>num_speaker</th>\n",
       "      <th>published_date</th>\n",
       "      <th>ratings</th>\n",
       "      <th>related_talks</th>\n",
       "      <th>speaker_occupation</th>\n",
       "      <th>tags</th>\n",
       "      <th>title</th>\n",
       "      <th>url</th>\n",
       "      <th>views</th>\n",
       "      <th>month</th>\n",
       "    </tr>\n",
       "  </thead>\n",
       "  <tbody>\n",
       "    <tr>\n",
       "      <th>0</th>\n",
       "      <td>4553</td>\n",
       "      <td>Sir Ken Robinson makes an entertaining and pro...</td>\n",
       "      <td>19.400000</td>\n",
       "      <td>TED2006</td>\n",
       "      <td>24-02-2006</td>\n",
       "      <td>60</td>\n",
       "      <td>Ken Robinson</td>\n",
       "      <td>Ken Robinson: Do schools kill creativity?</td>\n",
       "      <td>1</td>\n",
       "      <td>26-06-2006</td>\n",
       "      <td>[{'id': 7, 'name': 'Funny', 'count': 19645}, {...</td>\n",
       "      <td>[{'id': 865, 'hero': 'https://pe.tedcdn.com/im...</td>\n",
       "      <td>Author/educator</td>\n",
       "      <td>['children', 'creativity', 'culture', 'dance',...</td>\n",
       "      <td>Do schools kill creativity?</td>\n",
       "      <td>https://www.ted.com/talks/ken_robinson_says_sc...</td>\n",
       "      <td>47227110</td>\n",
       "      <td>2</td>\n",
       "    </tr>\n",
       "    <tr>\n",
       "      <th>1</th>\n",
       "      <td>265</td>\n",
       "      <td>With the same humor and humanity he exuded in ...</td>\n",
       "      <td>16.283333</td>\n",
       "      <td>TED2006</td>\n",
       "      <td>24-02-2006</td>\n",
       "      <td>43</td>\n",
       "      <td>Al Gore</td>\n",
       "      <td>Al Gore: Averting the climate crisis</td>\n",
       "      <td>1</td>\n",
       "      <td>26-06-2006</td>\n",
       "      <td>[{'id': 7, 'name': 'Funny', 'count': 544}, {'i...</td>\n",
       "      <td>[{'id': 243, 'hero': 'https://pe.tedcdn.com/im...</td>\n",
       "      <td>Climate advocate</td>\n",
       "      <td>['alternative energy', 'cars', 'climate change...</td>\n",
       "      <td>Averting the climate crisis</td>\n",
       "      <td>https://www.ted.com/talks/al_gore_on_averting_...</td>\n",
       "      <td>3200520</td>\n",
       "      <td>2</td>\n",
       "    </tr>\n",
       "  </tbody>\n",
       "</table>\n",
       "</div>"
      ],
      "text/plain": [
       "   comments                                        description   duration  \\\n",
       "0      4553  Sir Ken Robinson makes an entertaining and pro...  19.400000   \n",
       "1       265  With the same humor and humanity he exuded in ...  16.283333   \n",
       "\n",
       "     event   film_date  languages  main_speaker  \\\n",
       "0  TED2006  24-02-2006         60  Ken Robinson   \n",
       "1  TED2006  24-02-2006         43       Al Gore   \n",
       "\n",
       "                                        name  num_speaker published_date  \\\n",
       "0  Ken Robinson: Do schools kill creativity?            1     26-06-2006   \n",
       "1       Al Gore: Averting the climate crisis            1     26-06-2006   \n",
       "\n",
       "                                             ratings  \\\n",
       "0  [{'id': 7, 'name': 'Funny', 'count': 19645}, {...   \n",
       "1  [{'id': 7, 'name': 'Funny', 'count': 544}, {'i...   \n",
       "\n",
       "                                       related_talks speaker_occupation  \\\n",
       "0  [{'id': 865, 'hero': 'https://pe.tedcdn.com/im...    Author/educator   \n",
       "1  [{'id': 243, 'hero': 'https://pe.tedcdn.com/im...   Climate advocate   \n",
       "\n",
       "                                                tags  \\\n",
       "0  ['children', 'creativity', 'culture', 'dance',...   \n",
       "1  ['alternative energy', 'cars', 'climate change...   \n",
       "\n",
       "                         title  \\\n",
       "0  Do schools kill creativity?   \n",
       "1  Averting the climate crisis   \n",
       "\n",
       "                                                 url     views  month  \n",
       "0  https://www.ted.com/talks/ken_robinson_says_sc...  47227110      2  \n",
       "1  https://www.ted.com/talks/al_gore_on_averting_...   3200520      2  "
      ]
     },
     "execution_count": 30,
     "metadata": {},
     "output_type": "execute_result"
    }
   ],
   "source": [
    "#Month wise analysis of Ted Talks presented\n",
    "df1['month'] = df1['film_date'].apply(lambda x: int(x.split('-')[1]))\n",
    "df1.head(2)"
   ]
  },
  {
   "cell_type": "code",
   "execution_count": 31,
   "metadata": {},
   "outputs": [
    {
     "data": {
      "text/html": [
       "<div>\n",
       "<style scoped>\n",
       "    .dataframe tbody tr th:only-of-type {\n",
       "        vertical-align: middle;\n",
       "    }\n",
       "\n",
       "    .dataframe tbody tr th {\n",
       "        vertical-align: top;\n",
       "    }\n",
       "\n",
       "    .dataframe thead th {\n",
       "        text-align: right;\n",
       "    }\n",
       "</style>\n",
       "<table border=\"1\" class=\"dataframe\">\n",
       "  <thead>\n",
       "    <tr style=\"text-align: right;\">\n",
       "      <th></th>\n",
       "      <th>Month</th>\n",
       "      <th>Count</th>\n",
       "    </tr>\n",
       "  </thead>\n",
       "  <tbody>\n",
       "    <tr>\n",
       "      <th>0</th>\n",
       "      <td>1</td>\n",
       "      <td>43972650</td>\n",
       "    </tr>\n",
       "    <tr>\n",
       "      <th>1</th>\n",
       "      <td>2</td>\n",
       "      <td>1260064129</td>\n",
       "    </tr>\n",
       "    <tr>\n",
       "      <th>2</th>\n",
       "      <td>3</td>\n",
       "      <td>629672845</td>\n",
       "    </tr>\n",
       "    <tr>\n",
       "      <th>3</th>\n",
       "      <td>4</td>\n",
       "      <td>226772829</td>\n",
       "    </tr>\n",
       "    <tr>\n",
       "      <th>4</th>\n",
       "      <td>5</td>\n",
       "      <td>188845736</td>\n",
       "    </tr>\n",
       "    <tr>\n",
       "      <th>5</th>\n",
       "      <td>6</td>\n",
       "      <td>526350794</td>\n",
       "    </tr>\n",
       "    <tr>\n",
       "      <th>6</th>\n",
       "      <td>7</td>\n",
       "      <td>392246175</td>\n",
       "    </tr>\n",
       "    <tr>\n",
       "      <th>7</th>\n",
       "      <td>8</td>\n",
       "      <td>42204968</td>\n",
       "    </tr>\n",
       "    <tr>\n",
       "      <th>8</th>\n",
       "      <td>9</td>\n",
       "      <td>189283280</td>\n",
       "    </tr>\n",
       "    <tr>\n",
       "      <th>9</th>\n",
       "      <td>10</td>\n",
       "      <td>310541167</td>\n",
       "    </tr>\n",
       "    <tr>\n",
       "      <th>10</th>\n",
       "      <td>11</td>\n",
       "      <td>349436132</td>\n",
       "    </tr>\n",
       "    <tr>\n",
       "      <th>11</th>\n",
       "      <td>12</td>\n",
       "      <td>171267873</td>\n",
       "    </tr>\n",
       "  </tbody>\n",
       "</table>\n",
       "</div>"
      ],
      "text/plain": [
       "    Month       Count\n",
       "0       1    43972650\n",
       "1       2  1260064129\n",
       "2       3   629672845\n",
       "3       4   226772829\n",
       "4       5   188845736\n",
       "5       6   526350794\n",
       "6       7   392246175\n",
       "7       8    42204968\n",
       "8       9   189283280\n",
       "9      10   310541167\n",
       "10     11   349436132\n",
       "11     12   171267873"
      ]
     },
     "execution_count": 31,
     "metadata": {},
     "output_type": "execute_result"
    }
   ],
   "source": [
    "tedtalk_mon = df1.groupby(['month'])[['views']].sum().reset_index()\n",
    "# tedtalk_mon = df1.groupby(['month'])[['views']].count().reset_index()\n",
    "tedtalk_mon.rename(columns = {'month':'Month' , 'views':'Count'}, inplace = True)\n",
    "tedtalk_mon.sort_values('Month', inplace = True)\n",
    "tedtalk_mon"
   ]
  },
  {
   "cell_type": "code",
   "execution_count": 32,
   "metadata": {},
   "outputs": [
    {
     "data": {
      "text/plain": [
       "0     Jan\n",
       "1     Feb\n",
       "2     Mar\n",
       "3     Apr\n",
       "4     May\n",
       "5     Jun\n",
       "6     Jul\n",
       "7     Aug\n",
       "8     Sep\n",
       "9     Oct\n",
       "10    Nov\n",
       "11    Dec\n",
       "Name: Month, dtype: object"
      ]
     },
     "execution_count": 32,
     "metadata": {},
     "output_type": "execute_result"
    }
   ],
   "source": [
    "months = ['Jan', 'Feb', 'Mar', 'Apr', 'May', 'Jun', 'Jul', 'Aug', 'Sep', 'Oct', 'Nov', 'Dec']\n",
    "mapping = {i+1: month  for i, month in enumerate(months)}\n",
    "key = tedtalk_mon['Month'].map(mapping)\n",
    "key"
   ]
  },
  {
   "cell_type": "code",
   "execution_count": 33,
   "metadata": {},
   "outputs": [
    {
     "data": {
      "text/plain": [
       "<Figure size 432x288 with 0 Axes>"
      ]
     },
     "metadata": {},
     "output_type": "display_data"
    },
    {
     "data": {
      "image/png": "[encoded data removed]",
      "text/plain": [
       "<Figure size 720x432 with 1 Axes>"
      ]
     },
     "metadata": {
      "needs_background": "light"
     },
     "output_type": "display_data"
    }
   ],
   "source": [
    "import matplotlib.pyplot as plt\n",
    "ax = plt.figure()\n",
    "ax = tedtalk_mon.plot(kind='bar',x='Month', y='Count',figsize=[10,6])\n",
    "ax.set_xlabel(\"Month\")\n",
    "ax.set_ylabel(\"View Count\")\n",
    "ax.set_xticks(np.arange(len(tedtalk_mon['Month'])))\n",
    "ax.set_xticklabels(key,rotation = 90)\n",
    "ax = plt.tight_layout()\n",
    "ax = plt.title(\"Monthly Number of views of TED Talk\")\n",
    "ax = plt.show()"
   ]
  },
  {
   "cell_type": "markdown",
   "metadata": {},
   "source": [
    "### Analysis the 'rating' column"
   ]
  },
  {
   "cell_type": "code",
   "execution_count": 34,
   "metadata": {},
   "outputs": [],
   "source": [
    "import json\n",
    "from pandas.io.json import json_normalize\n",
    "import ast"
   ]
  },
  {
   "cell_type": "code",
   "execution_count": 35,
   "metadata": {},
   "outputs": [
    {
     "data": {
      "text/plain": [
       "'[{\"id\": 7, \"name\": \"Funny\", \"count\": 19645}, {\"id\": 1, \"name\": \"Beautiful\", \"count\": 4573}, {\"id\": 9, \"name\": \"Ingenious\", \"count\": 6073}, {\"id\": 3, \"name\": \"Courageous\", \"count\": 3253}, {\"id\": 11, \"name\": \"Longwinded\", \"count\": 387}, {\"id\": 2, \"name\": \"Confusing\", \"count\": 242}, {\"id\": 8, \"name\": \"Informative\", \"count\": 7346}, {\"id\": 22, \"name\": \"Fascinating\", \"count\": 10581}, {\"id\": 21, \"name\": \"Unconvincing\", \"count\": 300}, {\"id\": 24, \"name\": \"Persuasive\", \"count\": 10704}, {\"id\": 23, \"name\": \"Jaw-dropping\", \"count\": 4439}, {\"id\": 25, \"name\": \"OK\", \"count\": 1174}, {\"id\": 26, \"name\": \"Obnoxious\", \"count\": 209}, {\"id\": 10, \"name\": \"Inspiring\", \"count\": 24924}]'"
      ]
     },
     "execution_count": 35,
     "metadata": {},
     "output_type": "execute_result"
    }
   ],
   "source": [
    "# df1['new_rating'] = df1['ratings'].apply(ast.literal_eval).apply(json.dumps)\n",
    "# df1['new_rating'].head(2)\n",
    "df1['ratings'].apply(ast.literal_eval).apply(json.dumps)[0]"
   ]
  },
  {
   "cell_type": "code",
   "execution_count": 36,
   "metadata": {},
   "outputs": [
    {
     "data": {
      "text/plain": [
       "Index(['comments', 'description', 'duration', 'event', 'film_date',\n",
       "       'languages', 'main_speaker', 'name', 'num_speaker', 'published_date',\n",
       "       'ratings', 'related_talks', 'speaker_occupation', 'tags', 'title',\n",
       "       'url', 'views', 'month'],\n",
       "      dtype='object')"
      ]
     },
     "execution_count": 36,
     "metadata": {},
     "output_type": "execute_result"
    }
   ],
   "source": [
    "df1.columns"
   ]
  },
  {
   "cell_type": "code",
   "execution_count": 37,
   "metadata": {},
   "outputs": [
    {
     "data": {
      "text/html": [
       "<div>\n",
       "<style scoped>\n",
       "    .dataframe tbody tr th:only-of-type {\n",
       "        vertical-align: middle;\n",
       "    }\n",
       "\n",
       "    .dataframe tbody tr th {\n",
       "        vertical-align: top;\n",
       "    }\n",
       "\n",
       "    .dataframe thead th {\n",
       "        text-align: right;\n",
       "    }\n",
       "</style>\n",
       "<table border=\"1\" class=\"dataframe\">\n",
       "  <thead>\n",
       "    <tr style=\"text-align: right;\">\n",
       "      <th></th>\n",
       "      <th>url</th>\n",
       "      <th>film_date</th>\n",
       "      <th>views</th>\n",
       "      <th>comments</th>\n",
       "      <th>month</th>\n",
       "      <th>duration</th>\n",
       "      <th>languages</th>\n",
       "      <th>title</th>\n",
       "      <th>tags</th>\n",
       "      <th>main_speaker</th>\n",
       "    </tr>\n",
       "  </thead>\n",
       "  <tbody>\n",
       "    <tr>\n",
       "      <th>0</th>\n",
       "      <td>https://www.ted.com/talks/ken_robinson_says_sc...</td>\n",
       "      <td>24-02-2006</td>\n",
       "      <td>47227110</td>\n",
       "      <td>4553</td>\n",
       "      <td>2</td>\n",
       "      <td>19.400000</td>\n",
       "      <td>60</td>\n",
       "      <td>Do schools kill creativity?</td>\n",
       "      <td>['children', 'creativity', 'culture', 'dance',...</td>\n",
       "      <td>Ken Robinson</td>\n",
       "    </tr>\n",
       "    <tr>\n",
       "      <th>1</th>\n",
       "      <td>https://www.ted.com/talks/al_gore_on_averting_...</td>\n",
       "      <td>24-02-2006</td>\n",
       "      <td>3200520</td>\n",
       "      <td>265</td>\n",
       "      <td>2</td>\n",
       "      <td>16.283333</td>\n",
       "      <td>43</td>\n",
       "      <td>Averting the climate crisis</td>\n",
       "      <td>['alternative energy', 'cars', 'climate change...</td>\n",
       "      <td>Al Gore</td>\n",
       "    </tr>\n",
       "  </tbody>\n",
       "</table>\n",
       "</div>"
      ],
      "text/plain": [
       "                                                 url   film_date     views  \\\n",
       "0  https://www.ted.com/talks/ken_robinson_says_sc...  24-02-2006  47227110   \n",
       "1  https://www.ted.com/talks/al_gore_on_averting_...  24-02-2006   3200520   \n",
       "\n",
       "   comments  month   duration  languages                        title  \\\n",
       "0      4553      2  19.400000         60  Do schools kill creativity?   \n",
       "1       265      2  16.283333         43  Averting the climate crisis   \n",
       "\n",
       "                                                tags  main_speaker  \n",
       "0  ['children', 'creativity', 'culture', 'dance',...  Ken Robinson  \n",
       "1  ['alternative energy', 'cars', 'climate change...       Al Gore  "
      ]
     },
     "execution_count": 37,
     "metadata": {},
     "output_type": "execute_result"
    }
   ],
   "source": [
    "df_main = df1[['url','film_date','views','comments','month','duration','languages','title','tags','main_speaker']].copy()\n",
    "df_main['url'].astype(str)\n",
    "df_main['main_speaker'].astype(str)\n",
    "df_main.head(2)"
   ]
  },
  {
   "cell_type": "markdown",
   "metadata": {},
   "source": [
    "### Merging the processed speaker and transcript data"
   ]
  },
  {
   "cell_type": "code",
   "execution_count": 38,
   "metadata": {},
   "outputs": [
    {
     "data": {
      "text/html": [
       "<div>\n",
       "<style scoped>\n",
       "    .dataframe tbody tr th:only-of-type {\n",
       "        vertical-align: middle;\n",
       "    }\n",
       "\n",
       "    .dataframe tbody tr th {\n",
       "        vertical-align: top;\n",
       "    }\n",
       "\n",
       "    .dataframe thead th {\n",
       "        text-align: right;\n",
       "    }\n",
       "</style>\n",
       "<table border=\"1\" class=\"dataframe\">\n",
       "  <thead>\n",
       "    <tr style=\"text-align: right;\">\n",
       "      <th></th>\n",
       "      <th>transcript</th>\n",
       "      <th>url</th>\n",
       "      <th>topic</th>\n",
       "      <th>topic_tag</th>\n",
       "      <th>avg_sent_len</th>\n",
       "    </tr>\n",
       "  </thead>\n",
       "  <tbody>\n",
       "    <tr>\n",
       "      <th>0</th>\n",
       "      <td>Good morning. How are you?(Laughter)It's been ...</td>\n",
       "      <td>https://www.ted.com/talks/ken_robinson_says_sc...</td>\n",
       "      <td>13</td>\n",
       "      <td>students-education-teachers-learning-teacher-s...</td>\n",
       "      <td>58.072874</td>\n",
       "    </tr>\n",
       "    <tr>\n",
       "      <th>1</th>\n",
       "      <td>Thank you so much, Chris. And it's truly a gre...</td>\n",
       "      <td>https://www.ted.com/talks/al_gore_on_averting_...</td>\n",
       "      <td>5</td>\n",
       "      <td>africa-countries-dollars-business-india-growth</td>\n",
       "      <td>107.044776</td>\n",
       "    </tr>\n",
       "  </tbody>\n",
       "</table>\n",
       "</div>"
      ],
      "text/plain": [
       "                                          transcript  \\\n",
       "0  Good morning. How are you?(Laughter)It's been ...   \n",
       "1  Thank you so much, Chris. And it's truly a gre...   \n",
       "\n",
       "                                                 url  topic  \\\n",
       "0  https://www.ted.com/talks/ken_robinson_says_sc...     13   \n",
       "1  https://www.ted.com/talks/al_gore_on_averting_...      5   \n",
       "\n",
       "                                           topic_tag  avg_sent_len  \n",
       "0  students-education-teachers-learning-teacher-s...     58.072874  \n",
       "1     africa-countries-dollars-business-india-growth    107.044776  "
      ]
     },
     "execution_count": 38,
     "metadata": {},
     "output_type": "execute_result"
    }
   ],
   "source": [
    "df2 = pd.read_csv(\"dataset/processed_transcript.csv\")\n",
    "df2['url'].astype(str)\n",
    "df2.head(2)"
   ]
  },
  {
   "cell_type": "code",
   "execution_count": 39,
   "metadata": {},
   "outputs": [
    {
     "data": {
      "text/html": [
       "<div>\n",
       "<style scoped>\n",
       "    .dataframe tbody tr th:only-of-type {\n",
       "        vertical-align: middle;\n",
       "    }\n",
       "\n",
       "    .dataframe tbody tr th {\n",
       "        vertical-align: top;\n",
       "    }\n",
       "\n",
       "    .dataframe thead th {\n",
       "        text-align: right;\n",
       "    }\n",
       "</style>\n",
       "<table border=\"1\" class=\"dataframe\">\n",
       "  <thead>\n",
       "    <tr style=\"text-align: right;\">\n",
       "      <th></th>\n",
       "      <th>url</th>\n",
       "      <th>film_date</th>\n",
       "      <th>views</th>\n",
       "      <th>comments</th>\n",
       "      <th>month</th>\n",
       "      <th>duration</th>\n",
       "      <th>languages</th>\n",
       "      <th>title</th>\n",
       "      <th>tags</th>\n",
       "      <th>main_speaker</th>\n",
       "      <th>transcript</th>\n",
       "      <th>topic</th>\n",
       "      <th>topic_tag</th>\n",
       "      <th>avg_sent_len</th>\n",
       "    </tr>\n",
       "  </thead>\n",
       "  <tbody>\n",
       "    <tr>\n",
       "      <th>0</th>\n",
       "      <td>https://www.ted.com/talks/ken_robinson_says_sc...</td>\n",
       "      <td>24-02-2006</td>\n",
       "      <td>47227110</td>\n",
       "      <td>4553</td>\n",
       "      <td>2</td>\n",
       "      <td>19.400000</td>\n",
       "      <td>60</td>\n",
       "      <td>Do schools kill creativity?</td>\n",
       "      <td>['children', 'creativity', 'culture', 'dance',...</td>\n",
       "      <td>Ken Robinson</td>\n",
       "      <td>Good morning. How are you?(Laughter)It's been ...</td>\n",
       "      <td>13.0</td>\n",
       "      <td>students-education-teachers-learning-teacher-s...</td>\n",
       "      <td>58.072874</td>\n",
       "    </tr>\n",
       "    <tr>\n",
       "      <th>1</th>\n",
       "      <td>https://www.ted.com/talks/al_gore_on_averting_...</td>\n",
       "      <td>24-02-2006</td>\n",
       "      <td>3200520</td>\n",
       "      <td>265</td>\n",
       "      <td>2</td>\n",
       "      <td>16.283333</td>\n",
       "      <td>43</td>\n",
       "      <td>Averting the climate crisis</td>\n",
       "      <td>['alternative energy', 'cars', 'climate change...</td>\n",
       "      <td>Al Gore</td>\n",
       "      <td>Thank you so much, Chris. And it's truly a gre...</td>\n",
       "      <td>5.0</td>\n",
       "      <td>africa-countries-dollars-business-india-growth</td>\n",
       "      <td>107.044776</td>\n",
       "    </tr>\n",
       "    <tr>\n",
       "      <th>2</th>\n",
       "      <td>https://www.ted.com/talks/david_pogue_says_sim...</td>\n",
       "      <td>23-02-2006</td>\n",
       "      <td>1636292</td>\n",
       "      <td>124</td>\n",
       "      <td>2</td>\n",
       "      <td>21.433333</td>\n",
       "      <td>26</td>\n",
       "      <td>Simplicity sells</td>\n",
       "      <td>['computers', 'entertainment', 'interface desi...</td>\n",
       "      <td>David Pogue</td>\n",
       "      <td>(Music: \"The Sound of Silence,\" Simon &amp; Garfun...</td>\n",
       "      <td>14.0</td>\n",
       "      <td>computer-internet-video-machine-web-digital</td>\n",
       "      <td>52.350365</td>\n",
       "    </tr>\n",
       "  </tbody>\n",
       "</table>\n",
       "</div>"
      ],
      "text/plain": [
       "                                                 url   film_date     views  \\\n",
       "0  https://www.ted.com/talks/ken_robinson_says_sc...  24-02-2006  47227110   \n",
       "1  https://www.ted.com/talks/al_gore_on_averting_...  24-02-2006   3200520   \n",
       "2  https://www.ted.com/talks/david_pogue_says_sim...  23-02-2006   1636292   \n",
       "\n",
       "   comments  month   duration  languages                        title  \\\n",
       "0      4553      2  19.400000         60  Do schools kill creativity?   \n",
       "1       265      2  16.283333         43  Averting the climate crisis   \n",
       "2       124      2  21.433333         26             Simplicity sells   \n",
       "\n",
       "                                                tags  main_speaker  \\\n",
       "0  ['children', 'creativity', 'culture', 'dance',...  Ken Robinson   \n",
       "1  ['alternative energy', 'cars', 'climate change...       Al Gore   \n",
       "2  ['computers', 'entertainment', 'interface desi...   David Pogue   \n",
       "\n",
       "                                          transcript  topic  \\\n",
       "0  Good morning. How are you?(Laughter)It's been ...   13.0   \n",
       "1  Thank you so much, Chris. And it's truly a gre...    5.0   \n",
       "2  (Music: \"The Sound of Silence,\" Simon & Garfun...   14.0   \n",
       "\n",
       "                                           topic_tag  avg_sent_len  \n",
       "0  students-education-teachers-learning-teacher-s...     58.072874  \n",
       "1     africa-countries-dollars-business-india-growth    107.044776  \n",
       "2        computer-internet-video-machine-web-digital     52.350365  "
      ]
     },
     "execution_count": 39,
     "metadata": {},
     "output_type": "execute_result"
    }
   ],
   "source": [
    "df_main = df_main.join(df2.set_index('url'), on='url')\n",
    "df_main.head(3)"
   ]
  },
  {
   "cell_type": "code",
   "execution_count": 40,
   "metadata": {},
   "outputs": [
    {
     "data": {
      "text/plain": [
       "86"
      ]
     },
     "execution_count": 40,
     "metadata": {},
     "output_type": "execute_result"
    }
   ],
   "source": [
    "len(df_main[df_main['topic'].isna()])"
   ]
  },
  {
   "cell_type": "code",
   "execution_count": 41,
   "metadata": {},
   "outputs": [
    {
     "data": {
      "text/html": [
       "<div>\n",
       "<style scoped>\n",
       "    .dataframe tbody tr th:only-of-type {\n",
       "        vertical-align: middle;\n",
       "    }\n",
       "\n",
       "    .dataframe tbody tr th {\n",
       "        vertical-align: top;\n",
       "    }\n",
       "\n",
       "    .dataframe thead th {\n",
       "        text-align: right;\n",
       "    }\n",
       "</style>\n",
       "<table border=\"1\" class=\"dataframe\">\n",
       "  <thead>\n",
       "    <tr style=\"text-align: right;\">\n",
       "      <th></th>\n",
       "      <th>name</th>\n",
       "      <th>occupation</th>\n",
       "      <th>gender</th>\n",
       "    </tr>\n",
       "  </thead>\n",
       "  <tbody>\n",
       "    <tr>\n",
       "      <th>0</th>\n",
       "      <td>Gary Haugen</td>\n",
       "      <td>advocate</td>\n",
       "      <td>male</td>\n",
       "    </tr>\n",
       "    <tr>\n",
       "      <th>1</th>\n",
       "      <td>Rabbi Lord Jonathan Sacks</td>\n",
       "      <td>expert</td>\n",
       "      <td>male</td>\n",
       "    </tr>\n",
       "  </tbody>\n",
       "</table>\n",
       "</div>"
      ],
      "text/plain": [
       "                        name occupation gender\n",
       "0                Gary Haugen   advocate   male\n",
       "1  Rabbi Lord Jonathan Sacks     expert   male"
      ]
     },
     "execution_count": 41,
     "metadata": {},
     "output_type": "execute_result"
    }
   ],
   "source": [
    "df3 = pd.read_csv(\"dataset/processed_speaker.csv\")\n",
    "df3['name'].astype(str)\n",
    "df3.head(2)"
   ]
  },
  {
   "cell_type": "code",
   "execution_count": 42,
   "metadata": {},
   "outputs": [
    {
     "data": {
      "text/html": [
       "<div>\n",
       "<style scoped>\n",
       "    .dataframe tbody tr th:only-of-type {\n",
       "        vertical-align: middle;\n",
       "    }\n",
       "\n",
       "    .dataframe tbody tr th {\n",
       "        vertical-align: top;\n",
       "    }\n",
       "\n",
       "    .dataframe thead th {\n",
       "        text-align: right;\n",
       "    }\n",
       "</style>\n",
       "<table border=\"1\" class=\"dataframe\">\n",
       "  <thead>\n",
       "    <tr style=\"text-align: right;\">\n",
       "      <th></th>\n",
       "      <th>url</th>\n",
       "      <th>film_date</th>\n",
       "      <th>views</th>\n",
       "      <th>comments</th>\n",
       "      <th>month</th>\n",
       "      <th>duration</th>\n",
       "      <th>languages</th>\n",
       "      <th>title</th>\n",
       "      <th>tags</th>\n",
       "      <th>main_speaker</th>\n",
       "      <th>transcript</th>\n",
       "      <th>topic</th>\n",
       "      <th>topic_tag</th>\n",
       "      <th>avg_sent_len</th>\n",
       "      <th>occupation</th>\n",
       "      <th>gender</th>\n",
       "    </tr>\n",
       "  </thead>\n",
       "  <tbody>\n",
       "    <tr>\n",
       "      <th>0</th>\n",
       "      <td>https://www.ted.com/talks/ken_robinson_says_sc...</td>\n",
       "      <td>24-02-2006</td>\n",
       "      <td>47227110</td>\n",
       "      <td>4553</td>\n",
       "      <td>2</td>\n",
       "      <td>19.400000</td>\n",
       "      <td>60</td>\n",
       "      <td>Do schools kill creativity?</td>\n",
       "      <td>['children', 'creativity', 'culture', 'dance',...</td>\n",
       "      <td>Ken Robinson</td>\n",
       "      <td>Good morning. How are you?(Laughter)It's been ...</td>\n",
       "      <td>13.0</td>\n",
       "      <td>students-education-teachers-learning-teacher-s...</td>\n",
       "      <td>58.072874</td>\n",
       "      <td>author</td>\n",
       "      <td>male</td>\n",
       "    </tr>\n",
       "    <tr>\n",
       "      <th>1</th>\n",
       "      <td>https://www.ted.com/talks/al_gore_on_averting_...</td>\n",
       "      <td>24-02-2006</td>\n",
       "      <td>3200520</td>\n",
       "      <td>265</td>\n",
       "      <td>2</td>\n",
       "      <td>16.283333</td>\n",
       "      <td>43</td>\n",
       "      <td>Averting the climate crisis</td>\n",
       "      <td>['alternative energy', 'cars', 'climate change...</td>\n",
       "      <td>Al Gore</td>\n",
       "      <td>Thank you so much, Chris. And it's truly a gre...</td>\n",
       "      <td>5.0</td>\n",
       "      <td>africa-countries-dollars-business-india-growth</td>\n",
       "      <td>107.044776</td>\n",
       "      <td>advocate</td>\n",
       "      <td>male</td>\n",
       "    </tr>\n",
       "    <tr>\n",
       "      <th>2</th>\n",
       "      <td>https://www.ted.com/talks/david_pogue_says_sim...</td>\n",
       "      <td>23-02-2006</td>\n",
       "      <td>1636292</td>\n",
       "      <td>124</td>\n",
       "      <td>2</td>\n",
       "      <td>21.433333</td>\n",
       "      <td>26</td>\n",
       "      <td>Simplicity sells</td>\n",
       "      <td>['computers', 'entertainment', 'interface desi...</td>\n",
       "      <td>David Pogue</td>\n",
       "      <td>(Music: \"The Sound of Silence,\" Simon &amp; Garfun...</td>\n",
       "      <td>14.0</td>\n",
       "      <td>computer-internet-video-machine-web-digital</td>\n",
       "      <td>52.350365</td>\n",
       "      <td>historian</td>\n",
       "      <td>male</td>\n",
       "    </tr>\n",
       "  </tbody>\n",
       "</table>\n",
       "</div>"
      ],
      "text/plain": [
       "                                                 url   film_date     views  \\\n",
       "0  https://www.ted.com/talks/ken_robinson_says_sc...  24-02-2006  47227110   \n",
       "1  https://www.ted.com/talks/al_gore_on_averting_...  24-02-2006   3200520   \n",
       "2  https://www.ted.com/talks/david_pogue_says_sim...  23-02-2006   1636292   \n",
       "\n",
       "   comments  month   duration  languages                        title  \\\n",
       "0      4553      2  19.400000         60  Do schools kill creativity?   \n",
       "1       265      2  16.283333         43  Averting the climate crisis   \n",
       "2       124      2  21.433333         26             Simplicity sells   \n",
       "\n",
       "                                                tags  main_speaker  \\\n",
       "0  ['children', 'creativity', 'culture', 'dance',...  Ken Robinson   \n",
       "1  ['alternative energy', 'cars', 'climate change...       Al Gore   \n",
       "2  ['computers', 'entertainment', 'interface desi...   David Pogue   \n",
       "\n",
       "                                          transcript  topic  \\\n",
       "0  Good morning. How are you?(Laughter)It's been ...   13.0   \n",
       "1  Thank you so much, Chris. And it's truly a gre...    5.0   \n",
       "2  (Music: \"The Sound of Silence,\" Simon & Garfun...   14.0   \n",
       "\n",
       "                                           topic_tag  avg_sent_len occupation  \\\n",
       "0  students-education-teachers-learning-teacher-s...     58.072874     author   \n",
       "1     africa-countries-dollars-business-india-growth    107.044776   advocate   \n",
       "2        computer-internet-video-machine-web-digital     52.350365  historian   \n",
       "\n",
       "  gender  \n",
       "0   male  \n",
       "1   male  \n",
       "2   male  "
      ]
     },
     "execution_count": 42,
     "metadata": {},
     "output_type": "execute_result"
    }
   ],
   "source": [
    "df_main = df_main.join(df3.set_index('name'), on='main_speaker')\n",
    "df_main.head(3)"
   ]
  },
  {
   "cell_type": "code",
   "execution_count": 43,
   "metadata": {},
   "outputs": [
    {
     "data": {
      "text/plain": [
       "7"
      ]
     },
     "execution_count": 43,
     "metadata": {},
     "output_type": "execute_result"
    }
   ],
   "source": [
    "len(df_main[df_main['occupation'].isna() & df_main['topic'].isna()])"
   ]
  },
  {
   "cell_type": "code",
   "execution_count": 44,
   "metadata": {},
   "outputs": [
    {
     "data": {
      "text/plain": [
       "url              0\n",
       "film_date        0\n",
       "views            0\n",
       "comments         0\n",
       "month            0\n",
       "duration         0\n",
       "languages        0\n",
       "title            0\n",
       "tags             0\n",
       "main_speaker     0\n",
       "transcript      86\n",
       "topic           86\n",
       "topic_tag       86\n",
       "avg_sent_len    86\n",
       "occupation      82\n",
       "gender          82\n",
       "dtype: int64"
      ]
     },
     "execution_count": 44,
     "metadata": {},
     "output_type": "execute_result"
    }
   ],
   "source": [
    "#column wise analysis for number of NaNs \n",
    "df_main.isnull().sum()"
   ]
  },
  {
   "cell_type": "code",
   "execution_count": 45,
   "metadata": {},
   "outputs": [
    {
     "data": {
      "text/plain": [
       "508"
      ]
     },
     "execution_count": 45,
     "metadata": {},
     "output_type": "execute_result"
    }
   ],
   "source": [
    "df_main.isnull().sum().sum()"
   ]
  },
  {
   "cell_type": "code",
   "execution_count": 46,
   "metadata": {},
   "outputs": [],
   "source": [
    "df_main.dropna(inplace=True)"
   ]
  },
  {
   "cell_type": "code",
   "execution_count": 47,
   "metadata": {},
   "outputs": [
    {
     "data": {
      "text/plain": [
       "2399"
      ]
     },
     "execution_count": 47,
     "metadata": {},
     "output_type": "execute_result"
    }
   ],
   "source": [
    "len(df_main)"
   ]
  },
  {
   "cell_type": "markdown",
   "metadata": {},
   "source": [
    "### Topic-wise views"
   ]
  },
  {
   "cell_type": "code",
   "execution_count": 48,
   "metadata": {},
   "outputs": [
    {
     "data": {
      "text/html": [
       "<div>\n",
       "<style scoped>\n",
       "    .dataframe tbody tr th:only-of-type {\n",
       "        vertical-align: middle;\n",
       "    }\n",
       "\n",
       "    .dataframe tbody tr th {\n",
       "        vertical-align: top;\n",
       "    }\n",
       "\n",
       "    .dataframe thead th {\n",
       "        text-align: right;\n",
       "    }\n",
       "</style>\n",
       "<table border=\"1\" class=\"dataframe\">\n",
       "  <thead>\n",
       "    <tr style=\"text-align: right;\">\n",
       "      <th></th>\n",
       "      <th>Topic</th>\n",
       "      <th>Count</th>\n",
       "    </tr>\n",
       "  </thead>\n",
       "  <tbody>\n",
       "    <tr>\n",
       "      <th>11</th>\n",
       "      <td>12.0</td>\n",
       "      <td>48762916</td>\n",
       "    </tr>\n",
       "    <tr>\n",
       "      <th>7</th>\n",
       "      <td>8.0</td>\n",
       "      <td>148337517</td>\n",
       "    </tr>\n",
       "    <tr>\n",
       "      <th>5</th>\n",
       "      <td>6.0</td>\n",
       "      <td>167933494</td>\n",
       "    </tr>\n",
       "    <tr>\n",
       "      <th>3</th>\n",
       "      <td>4.0</td>\n",
       "      <td>174433797</td>\n",
       "    </tr>\n",
       "    <tr>\n",
       "      <th>1</th>\n",
       "      <td>2.0</td>\n",
       "      <td>183375893</td>\n",
       "    </tr>\n",
       "    <tr>\n",
       "      <th>8</th>\n",
       "      <td>9.0</td>\n",
       "      <td>183958495</td>\n",
       "    </tr>\n",
       "    <tr>\n",
       "      <th>2</th>\n",
       "      <td>3.0</td>\n",
       "      <td>245142613</td>\n",
       "    </tr>\n",
       "    <tr>\n",
       "      <th>6</th>\n",
       "      <td>7.0</td>\n",
       "      <td>280383168</td>\n",
       "    </tr>\n",
       "    <tr>\n",
       "      <th>4</th>\n",
       "      <td>5.0</td>\n",
       "      <td>292458752</td>\n",
       "    </tr>\n",
       "    <tr>\n",
       "      <th>9</th>\n",
       "      <td>10.0</td>\n",
       "      <td>317744285</td>\n",
       "    </tr>\n",
       "    <tr>\n",
       "      <th>12</th>\n",
       "      <td>13.0</td>\n",
       "      <td>351647991</td>\n",
       "    </tr>\n",
       "    <tr>\n",
       "      <th>10</th>\n",
       "      <td>11.0</td>\n",
       "      <td>353058812</td>\n",
       "    </tr>\n",
       "    <tr>\n",
       "      <th>13</th>\n",
       "      <td>14.0</td>\n",
       "      <td>608825624</td>\n",
       "    </tr>\n",
       "    <tr>\n",
       "      <th>0</th>\n",
       "      <td>1.0</td>\n",
       "      <td>838090442</td>\n",
       "    </tr>\n",
       "  </tbody>\n",
       "</table>\n",
       "</div>"
      ],
      "text/plain": [
       "    Topic      Count\n",
       "11   12.0   48762916\n",
       "7     8.0  148337517\n",
       "5     6.0  167933494\n",
       "3     4.0  174433797\n",
       "1     2.0  183375893\n",
       "8     9.0  183958495\n",
       "2     3.0  245142613\n",
       "6     7.0  280383168\n",
       "4     5.0  292458752\n",
       "9    10.0  317744285\n",
       "12   13.0  351647991\n",
       "10   11.0  353058812\n",
       "13   14.0  608825624\n",
       "0     1.0  838090442"
      ]
     },
     "execution_count": 48,
     "metadata": {},
     "output_type": "execute_result"
    }
   ],
   "source": [
    "tedtalk_top = df_main.groupby(['topic'])[['views']].sum().reset_index()\n",
    "# tedtalk_mon = df1.groupby(['month'])[['views']].count().reset_index()\n",
    "tedtalk_top.rename(columns = {'topic':'Topic' , 'views':'Count'}, inplace = True)\n",
    "tedtalk_top.sort_values('Count', inplace = True)\n",
    "tedtalk_top"
   ]
  },
  {
   "cell_type": "code",
   "execution_count": 49,
   "metadata": {},
   "outputs": [
    {
     "data": {
      "text/plain": [
       "{13.0: 'students-education-teachers-learning-teacher-schools',\n",
       " 5.0: 'africa-countries-dollars-business-india-growth',\n",
       " 14.0: 'computer-internet-video-machine-web-digital',\n",
       " 8.0: 'city-cities-cars-urban-car-buildings',\n",
       " 1.0: 'god-stories-mother-father-book-felt',\n",
       " 9.0: 'design-designers-art-architecture-materials-designed',\n",
       " 11.0: 'war-government-political-democracy-rights-violence',\n",
       " 2.0: 'music-sound-ends-song-musical-piece',\n",
       " 3.0: 'women-men-girls-woman-sex-gender',\n",
       " 6.0: 'universe-earth-planets-mars-planet-stars',\n",
       " 4.0: 'cancer-cells-patients-disease-patient-cell',\n",
       " 10.0: 'ocean-species-animals-fish-sea-food',\n",
       " 7.0: 'brain-neurons-brains-cells-cortex-activity',\n",
       " 12.0: 'robot-robots-machines-legs-machine-robotic'}"
      ]
     },
     "execution_count": 49,
     "metadata": {},
     "output_type": "execute_result"
    }
   ],
   "source": [
    "topic_dict = dict(zip(df_main['topic'],df_main['topic_tag']))\n",
    "topic_dict"
   ]
  },
  {
   "cell_type": "code",
   "execution_count": 50,
   "metadata": {},
   "outputs": [
    {
     "data": {
      "text/plain": [
       "11           robot-robots-machines-legs-machine-robotic\n",
       "7                  city-cities-cars-urban-car-buildings\n",
       "5              universe-earth-planets-mars-planet-stars\n",
       "3            cancer-cells-patients-disease-patient-cell\n",
       "1                   music-sound-ends-song-musical-piece\n",
       "8     design-designers-art-architecture-materials-de...\n",
       "2                      women-men-girls-woman-sex-gender\n",
       "6            brain-neurons-brains-cells-cortex-activity\n",
       "4        africa-countries-dollars-business-india-growth\n",
       "9                   ocean-species-animals-fish-sea-food\n",
       "12    students-education-teachers-learning-teacher-s...\n",
       "10    war-government-political-democracy-rights-viol...\n",
       "13          computer-internet-video-machine-web-digital\n",
       "0                   god-stories-mother-father-book-felt\n",
       "Name: Topic, dtype: object"
      ]
     },
     "execution_count": 50,
     "metadata": {},
     "output_type": "execute_result"
    }
   ],
   "source": [
    "topic_tag = tedtalk_top['Topic'].map(topic_dict)\n",
    "topic_tag"
   ]
  },
  {
   "cell_type": "code",
   "execution_count": 51,
   "metadata": {},
   "outputs": [
    {
     "data": {
      "text/plain": [
       "<Figure size 432x288 with 0 Axes>"
      ]
     },
     "metadata": {},
     "output_type": "display_data"
    },
    {
     "data": {
      "image/png": "[encoded data removed]",
      "text/plain": [
       "<Figure size 720x432 with 1 Axes>"
      ]
     },
     "metadata": {
      "needs_background": "light"
     },
     "output_type": "display_data"
    }
   ],
   "source": [
    "ax = plt.figure()\n",
    "ax = tedtalk_top.plot(kind='barh',x='Topic', y='Count',figsize=[10,6])\n",
    "ax.set_ylabel(\"Topics\")\n",
    "ax.set_xlabel(\"View Count\")\n",
    "# ax.set_xticks(np.arange(len(tedtalk_top['Count'])))\n",
    "ax.set_yticklabels(topic_tag)#,rotation = 90)\n",
    "ax = plt.tight_layout()\n",
    "ax = plt.title(\"Number of views of TED Talk from each Category\")\n",
    "ax = plt.show()"
   ]
  },
  {
   "cell_type": "markdown",
   "metadata": {},
   "source": [
    "### Speaker from Varying Field"
   ]
  },
  {
   "cell_type": "code",
   "execution_count": 52,
   "metadata": {},
   "outputs": [
    {
     "data": {
      "image/png": "[encoded data removed]",
      "text/plain": [
       "<Figure size 432x288 with 1 Axes>"
      ]
     },
     "metadata": {
      "needs_background": "light"
     },
     "output_type": "display_data"
    }
   ],
   "source": [
    "speaker = dict(df_main['occupation'].value_counts())\n",
    "\n",
    "# Create and generate a word cloud image:\n",
    "wordcloud = WordCloud(width=1600, height=800, collocations=False, background_color=\"white\").generate_from_frequencies(speaker)\n",
    "plt.imshow(wordcloud, interpolation='bilinear')\n",
    "plt.axis(\"off\")\n",
    "plt.show()"
   ]
  },
  {
   "cell_type": "code",
   "execution_count": 53,
   "metadata": {},
   "outputs": [
    {
     "data": {
      "text/html": [
       "<div>\n",
       "<style scoped>\n",
       "    .dataframe tbody tr th:only-of-type {\n",
       "        vertical-align: middle;\n",
       "    }\n",
       "\n",
       "    .dataframe tbody tr th {\n",
       "        vertical-align: top;\n",
       "    }\n",
       "\n",
       "    .dataframe thead th {\n",
       "        text-align: right;\n",
       "    }\n",
       "</style>\n",
       "<table border=\"1\" class=\"dataframe\">\n",
       "  <thead>\n",
       "    <tr style=\"text-align: right;\">\n",
       "      <th></th>\n",
       "      <th>url</th>\n",
       "      <th>film_date</th>\n",
       "      <th>views</th>\n",
       "      <th>comments</th>\n",
       "      <th>month</th>\n",
       "      <th>duration</th>\n",
       "      <th>languages</th>\n",
       "      <th>title</th>\n",
       "      <th>tags</th>\n",
       "      <th>main_speaker</th>\n",
       "      <th>transcript</th>\n",
       "      <th>topic</th>\n",
       "      <th>topic_tag</th>\n",
       "      <th>avg_sent_len</th>\n",
       "      <th>occupation</th>\n",
       "      <th>gender</th>\n",
       "    </tr>\n",
       "  </thead>\n",
       "  <tbody>\n",
       "    <tr>\n",
       "      <th>0</th>\n",
       "      <td>https://www.ted.com/talks/ken_robinson_says_sc...</td>\n",
       "      <td>24-02-2006</td>\n",
       "      <td>47227110</td>\n",
       "      <td>4553</td>\n",
       "      <td>2</td>\n",
       "      <td>19.400000</td>\n",
       "      <td>60</td>\n",
       "      <td>Do schools kill creativity?</td>\n",
       "      <td>['children', 'creativity', 'culture', 'dance',...</td>\n",
       "      <td>Ken Robinson</td>\n",
       "      <td>Good morning. How are you?(Laughter)It's been ...</td>\n",
       "      <td>13.0</td>\n",
       "      <td>students-education-teachers-learning-teacher-s...</td>\n",
       "      <td>58.072874</td>\n",
       "      <td>author</td>\n",
       "      <td>male</td>\n",
       "    </tr>\n",
       "    <tr>\n",
       "      <th>1</th>\n",
       "      <td>https://www.ted.com/talks/al_gore_on_averting_...</td>\n",
       "      <td>24-02-2006</td>\n",
       "      <td>3200520</td>\n",
       "      <td>265</td>\n",
       "      <td>2</td>\n",
       "      <td>16.283333</td>\n",
       "      <td>43</td>\n",
       "      <td>Averting the climate crisis</td>\n",
       "      <td>['alternative energy', 'cars', 'climate change...</td>\n",
       "      <td>Al Gore</td>\n",
       "      <td>Thank you so much, Chris. And it's truly a gre...</td>\n",
       "      <td>5.0</td>\n",
       "      <td>africa-countries-dollars-business-india-growth</td>\n",
       "      <td>107.044776</td>\n",
       "      <td>advocate</td>\n",
       "      <td>male</td>\n",
       "    </tr>\n",
       "  </tbody>\n",
       "</table>\n",
       "</div>"
      ],
      "text/plain": [
       "                                                 url   film_date     views  \\\n",
       "0  https://www.ted.com/talks/ken_robinson_says_sc...  24-02-2006  47227110   \n",
       "1  https://www.ted.com/talks/al_gore_on_averting_...  24-02-2006   3200520   \n",
       "\n",
       "   comments  month   duration  languages                        title  \\\n",
       "0      4553      2  19.400000         60  Do schools kill creativity?   \n",
       "1       265      2  16.283333         43  Averting the climate crisis   \n",
       "\n",
       "                                                tags  main_speaker  \\\n",
       "0  ['children', 'creativity', 'culture', 'dance',...  Ken Robinson   \n",
       "1  ['alternative energy', 'cars', 'climate change...       Al Gore   \n",
       "\n",
       "                                          transcript  topic  \\\n",
       "0  Good morning. How are you?(Laughter)It's been ...   13.0   \n",
       "1  Thank you so much, Chris. And it's truly a gre...    5.0   \n",
       "\n",
       "                                           topic_tag  avg_sent_len occupation  \\\n",
       "0  students-education-teachers-learning-teacher-s...     58.072874     author   \n",
       "1     africa-countries-dollars-business-india-growth    107.044776   advocate   \n",
       "\n",
       "  gender  \n",
       "0   male  \n",
       "1   male  "
      ]
     },
     "execution_count": 53,
     "metadata": {},
     "output_type": "execute_result"
    }
   ],
   "source": [
    "df_main.head(2)"
   ]
  },
  {
   "cell_type": "code",
   "execution_count": 54,
   "metadata": {},
   "outputs": [],
   "source": [
    "df_main['popularity_score'] = df_main['views'] / df_main['comments']\n",
    "df_main['popularity_score'] = df_main['popularity_score'] / sum(df_main['popularity_score'])"
   ]
  },
  {
   "cell_type": "code",
   "execution_count": 55,
   "metadata": {},
   "outputs": [
    {
     "data": {
      "text/html": [
       "<div>\n",
       "<style scoped>\n",
       "    .dataframe tbody tr th:only-of-type {\n",
       "        vertical-align: middle;\n",
       "    }\n",
       "\n",
       "    .dataframe tbody tr th {\n",
       "        vertical-align: top;\n",
       "    }\n",
       "\n",
       "    .dataframe thead th {\n",
       "        text-align: right;\n",
       "    }\n",
       "</style>\n",
       "<table border=\"1\" class=\"dataframe\">\n",
       "  <thead>\n",
       "    <tr style=\"text-align: right;\">\n",
       "      <th></th>\n",
       "      <th>url</th>\n",
       "      <th>film_date</th>\n",
       "      <th>views</th>\n",
       "      <th>comments</th>\n",
       "      <th>month</th>\n",
       "      <th>duration</th>\n",
       "      <th>languages</th>\n",
       "      <th>title</th>\n",
       "      <th>tags</th>\n",
       "      <th>main_speaker</th>\n",
       "      <th>transcript</th>\n",
       "      <th>topic</th>\n",
       "      <th>topic_tag</th>\n",
       "      <th>avg_sent_len</th>\n",
       "      <th>occupation</th>\n",
       "      <th>gender</th>\n",
       "      <th>popularity_score</th>\n",
       "    </tr>\n",
       "  </thead>\n",
       "  <tbody>\n",
       "    <tr>\n",
       "      <th>0</th>\n",
       "      <td>https://www.ted.com/talks/ken_robinson_says_sc...</td>\n",
       "      <td>24-02-2006</td>\n",
       "      <td>47227110</td>\n",
       "      <td>4553</td>\n",
       "      <td>2</td>\n",
       "      <td>19.400000</td>\n",
       "      <td>60</td>\n",
       "      <td>Do schools kill creativity?</td>\n",
       "      <td>['children', 'creativity', 'culture', 'dance',...</td>\n",
       "      <td>Ken Robinson</td>\n",
       "      <td>Good morning. How are you?(Laughter)It's been ...</td>\n",
       "      <td>13.0</td>\n",
       "      <td>students-education-teachers-learning-teacher-s...</td>\n",
       "      <td>58.072874</td>\n",
       "      <td>author</td>\n",
       "      <td>male</td>\n",
       "      <td>0.000285</td>\n",
       "    </tr>\n",
       "    <tr>\n",
       "      <th>1</th>\n",
       "      <td>https://www.ted.com/talks/al_gore_on_averting_...</td>\n",
       "      <td>24-02-2006</td>\n",
       "      <td>3200520</td>\n",
       "      <td>265</td>\n",
       "      <td>2</td>\n",
       "      <td>16.283333</td>\n",
       "      <td>43</td>\n",
       "      <td>Averting the climate crisis</td>\n",
       "      <td>['alternative energy', 'cars', 'climate change...</td>\n",
       "      <td>Al Gore</td>\n",
       "      <td>Thank you so much, Chris. And it's truly a gre...</td>\n",
       "      <td>5.0</td>\n",
       "      <td>africa-countries-dollars-business-india-growth</td>\n",
       "      <td>107.044776</td>\n",
       "      <td>advocate</td>\n",
       "      <td>male</td>\n",
       "      <td>0.000332</td>\n",
       "    </tr>\n",
       "    <tr>\n",
       "      <th>2</th>\n",
       "      <td>https://www.ted.com/talks/david_pogue_says_sim...</td>\n",
       "      <td>23-02-2006</td>\n",
       "      <td>1636292</td>\n",
       "      <td>124</td>\n",
       "      <td>2</td>\n",
       "      <td>21.433333</td>\n",
       "      <td>26</td>\n",
       "      <td>Simplicity sells</td>\n",
       "      <td>['computers', 'entertainment', 'interface desi...</td>\n",
       "      <td>David Pogue</td>\n",
       "      <td>(Music: \"The Sound of Silence,\" Simon &amp; Garfun...</td>\n",
       "      <td>14.0</td>\n",
       "      <td>computer-internet-video-machine-web-digital</td>\n",
       "      <td>52.350365</td>\n",
       "      <td>historian</td>\n",
       "      <td>male</td>\n",
       "      <td>0.000362</td>\n",
       "    </tr>\n",
       "    <tr>\n",
       "      <th>3</th>\n",
       "      <td>https://www.ted.com/talks/majora_carter_s_tale...</td>\n",
       "      <td>25-02-2006</td>\n",
       "      <td>1697550</td>\n",
       "      <td>200</td>\n",
       "      <td>2</td>\n",
       "      <td>18.600000</td>\n",
       "      <td>35</td>\n",
       "      <td>Greening the ghetto</td>\n",
       "      <td>['MacArthur grant', 'activism', 'business', 'c...</td>\n",
       "      <td>Majora Carter</td>\n",
       "      <td>If you're here today — and I'm very happy that...</td>\n",
       "      <td>8.0</td>\n",
       "      <td>city-cities-cars-urban-car-buildings</td>\n",
       "      <td>85.892216</td>\n",
       "      <td>activist</td>\n",
       "      <td>male</td>\n",
       "      <td>0.000233</td>\n",
       "    </tr>\n",
       "    <tr>\n",
       "      <th>4</th>\n",
       "      <td>https://www.ted.com/talks/hans_rosling_shows_t...</td>\n",
       "      <td>21-02-2006</td>\n",
       "      <td>12005869</td>\n",
       "      <td>593</td>\n",
       "      <td>2</td>\n",
       "      <td>19.833333</td>\n",
       "      <td>48</td>\n",
       "      <td>The best stats you've ever seen</td>\n",
       "      <td>['Africa', 'Asia', 'Google', 'demo', 'economic...</td>\n",
       "      <td>Hans Rosling</td>\n",
       "      <td>About 10 years ago, I took on the task to teac...</td>\n",
       "      <td>5.0</td>\n",
       "      <td>africa-countries-dollars-business-india-growth</td>\n",
       "      <td>63.189427</td>\n",
       "      <td>expert</td>\n",
       "      <td>male</td>\n",
       "      <td>0.000556</td>\n",
       "    </tr>\n",
       "  </tbody>\n",
       "</table>\n",
       "</div>"
      ],
      "text/plain": [
       "                                                 url   film_date     views  \\\n",
       "0  https://www.ted.com/talks/ken_robinson_says_sc...  24-02-2006  47227110   \n",
       "1  https://www.ted.com/talks/al_gore_on_averting_...  24-02-2006   3200520   \n",
       "2  https://www.ted.com/talks/david_pogue_says_sim...  23-02-2006   1636292   \n",
       "3  https://www.ted.com/talks/majora_carter_s_tale...  25-02-2006   1697550   \n",
       "4  https://www.ted.com/talks/hans_rosling_shows_t...  21-02-2006  12005869   \n",
       "\n",
       "   comments  month   duration  languages                            title  \\\n",
       "0      4553      2  19.400000         60      Do schools kill creativity?   \n",
       "1       265      2  16.283333         43      Averting the climate crisis   \n",
       "2       124      2  21.433333         26                 Simplicity sells   \n",
       "3       200      2  18.600000         35              Greening the ghetto   \n",
       "4       593      2  19.833333         48  The best stats you've ever seen   \n",
       "\n",
       "                                                tags   main_speaker  \\\n",
       "0  ['children', 'creativity', 'culture', 'dance',...   Ken Robinson   \n",
       "1  ['alternative energy', 'cars', 'climate change...        Al Gore   \n",
       "2  ['computers', 'entertainment', 'interface desi...    David Pogue   \n",
       "3  ['MacArthur grant', 'activism', 'business', 'c...  Majora Carter   \n",
       "4  ['Africa', 'Asia', 'Google', 'demo', 'economic...   Hans Rosling   \n",
       "\n",
       "                                          transcript  topic  \\\n",
       "0  Good morning. How are you?(Laughter)It's been ...   13.0   \n",
       "1  Thank you so much, Chris. And it's truly a gre...    5.0   \n",
       "2  (Music: \"The Sound of Silence,\" Simon & Garfun...   14.0   \n",
       "3  If you're here today — and I'm very happy that...    8.0   \n",
       "4  About 10 years ago, I took on the task to teac...    5.0   \n",
       "\n",
       "                                           topic_tag  avg_sent_len occupation  \\\n",
       "0  students-education-teachers-learning-teacher-s...     58.072874     author   \n",
       "1     africa-countries-dollars-business-india-growth    107.044776   advocate   \n",
       "2        computer-internet-video-machine-web-digital     52.350365  historian   \n",
       "3               city-cities-cars-urban-car-buildings     85.892216   activist   \n",
       "4     africa-countries-dollars-business-india-growth     63.189427     expert   \n",
       "\n",
       "  gender  popularity_score  \n",
       "0   male          0.000285  \n",
       "1   male          0.000332  \n",
       "2   male          0.000362  \n",
       "3   male          0.000233  \n",
       "4   male          0.000556  "
      ]
     },
     "execution_count": 55,
     "metadata": {},
     "output_type": "execute_result"
    }
   ],
   "source": [
    "df_main.head()"
   ]
  },
  {
   "cell_type": "code",
   "execution_count": 56,
   "metadata": {},
   "outputs": [
    {
     "data": {
      "text/plain": [
       "190"
      ]
     },
     "execution_count": 56,
     "metadata": {},
     "output_type": "execute_result"
    }
   ],
   "source": [
    "len(df_main[df_main['popularity_score'] >= 0.001])"
   ]
  },
  {
   "cell_type": "code",
   "execution_count": 144,
   "metadata": {},
   "outputs": [
    {
     "data": {
      "text/plain": [
       "(0.008868857015098737, 1.7890497511695215e-05)"
      ]
     },
     "execution_count": 144,
     "metadata": {},
     "output_type": "execute_result"
    }
   ],
   "source": [
    "df_main['popularity_score'].max(), df_main['popularity_score'].min()"
   ]
  },
  {
   "cell_type": "code",
   "execution_count": 57,
   "metadata": {},
   "outputs": [],
   "source": [
    "# df_main.sort_values('popularity_score',ascending=False).groupby('topic_tag').count()"
   ]
  },
  {
   "cell_type": "code",
   "execution_count": 58,
   "metadata": {},
   "outputs": [
    {
     "data": {
      "text/html": [
       "<div>\n",
       "<style scoped>\n",
       "    .dataframe tbody tr th:only-of-type {\n",
       "        vertical-align: middle;\n",
       "    }\n",
       "\n",
       "    .dataframe tbody tr th {\n",
       "        vertical-align: top;\n",
       "    }\n",
       "\n",
       "    .dataframe thead th {\n",
       "        text-align: right;\n",
       "    }\n",
       "</style>\n",
       "<table border=\"1\" class=\"dataframe\">\n",
       "  <thead>\n",
       "    <tr style=\"text-align: right;\">\n",
       "      <th></th>\n",
       "      <th>Topic</th>\n",
       "      <th>Count</th>\n",
       "    </tr>\n",
       "  </thead>\n",
       "  <tbody>\n",
       "    <tr>\n",
       "      <th>6</th>\n",
       "      <td>god-stories-mother-father-book-felt</td>\n",
       "      <td>32</td>\n",
       "    </tr>\n",
       "    <tr>\n",
       "      <th>4</th>\n",
       "      <td>computer-internet-video-machine-web-digital</td>\n",
       "      <td>24</td>\n",
       "    </tr>\n",
       "    <tr>\n",
       "      <th>8</th>\n",
       "      <td>ocean-species-animals-fish-sea-food</td>\n",
       "      <td>18</td>\n",
       "    </tr>\n",
       "    <tr>\n",
       "      <th>1</th>\n",
       "      <td>brain-neurons-brains-cells-cortex-activity</td>\n",
       "      <td>15</td>\n",
       "    </tr>\n",
       "    <tr>\n",
       "      <th>13</th>\n",
       "      <td>women-men-girls-woman-sex-gender</td>\n",
       "      <td>15</td>\n",
       "    </tr>\n",
       "    <tr>\n",
       "      <th>2</th>\n",
       "      <td>cancer-cells-patients-disease-patient-cell</td>\n",
       "      <td>14</td>\n",
       "    </tr>\n",
       "    <tr>\n",
       "      <th>0</th>\n",
       "      <td>africa-countries-dollars-business-india-growth</td>\n",
       "      <td>13</td>\n",
       "    </tr>\n",
       "    <tr>\n",
       "      <th>5</th>\n",
       "      <td>design-designers-art-architecture-materials-de...</td>\n",
       "      <td>13</td>\n",
       "    </tr>\n",
       "    <tr>\n",
       "      <th>3</th>\n",
       "      <td>city-cities-cars-urban-car-buildings</td>\n",
       "      <td>12</td>\n",
       "    </tr>\n",
       "    <tr>\n",
       "      <th>12</th>\n",
       "      <td>war-government-political-democracy-rights-viol...</td>\n",
       "      <td>10</td>\n",
       "    </tr>\n",
       "    <tr>\n",
       "      <th>7</th>\n",
       "      <td>music-sound-ends-song-musical-piece</td>\n",
       "      <td>8</td>\n",
       "    </tr>\n",
       "    <tr>\n",
       "      <th>10</th>\n",
       "      <td>students-education-teachers-learning-teacher-s...</td>\n",
       "      <td>6</td>\n",
       "    </tr>\n",
       "    <tr>\n",
       "      <th>9</th>\n",
       "      <td>robot-robots-machines-legs-machine-robotic</td>\n",
       "      <td>5</td>\n",
       "    </tr>\n",
       "    <tr>\n",
       "      <th>11</th>\n",
       "      <td>universe-earth-planets-mars-planet-stars</td>\n",
       "      <td>5</td>\n",
       "    </tr>\n",
       "  </tbody>\n",
       "</table>\n",
       "</div>"
      ],
      "text/plain": [
       "                                                Topic  Count\n",
       "6                 god-stories-mother-father-book-felt     32\n",
       "4         computer-internet-video-machine-web-digital     24\n",
       "8                 ocean-species-animals-fish-sea-food     18\n",
       "1          brain-neurons-brains-cells-cortex-activity     15\n",
       "13                   women-men-girls-woman-sex-gender     15\n",
       "2          cancer-cells-patients-disease-patient-cell     14\n",
       "0      africa-countries-dollars-business-india-growth     13\n",
       "5   design-designers-art-architecture-materials-de...     13\n",
       "3                city-cities-cars-urban-car-buildings     12\n",
       "12  war-government-political-democracy-rights-viol...     10\n",
       "7                 music-sound-ends-song-musical-piece      8\n",
       "10  students-education-teachers-learning-teacher-s...      6\n",
       "9          robot-robots-machines-legs-machine-robotic      5\n",
       "11           universe-earth-planets-mars-planet-stars      5"
      ]
     },
     "execution_count": 58,
     "metadata": {},
     "output_type": "execute_result"
    }
   ],
   "source": [
    "pop_topic = df_main.sort_values('popularity_score',ascending=False)[:190].groupby(['topic_tag'])[['views']].count().reset_index()\n",
    "pop_topic.rename(columns = {'topic_tag':'Topic' , 'views':'Count'}, inplace = True)\n",
    "pop_topic.sort_values('Count', ascending=False , inplace = True)\n",
    "pop_topic"
   ]
  },
  {
   "cell_type": "code",
   "execution_count": 59,
   "metadata": {},
   "outputs": [
    {
     "data": {
      "text/plain": [
       "<matplotlib.axes._subplots.AxesSubplot at 0x19e735e7ba8>"
      ]
     },
     "execution_count": 59,
     "metadata": {},
     "output_type": "execute_result"
    },
    {
     "data": {
      "image/png": "[encoded data removed]",
      "text/plain": [
       "<Figure size 432x288 with 1 Axes>"
      ]
     },
     "metadata": {
      "needs_background": "light"
     },
     "output_type": "display_data"
    }
   ],
   "source": [
    "sns.barplot(data=pop_topic,y=\"Topic\", x=\"Count\")\n",
    "# plt.xticks(rotation='vertical')"
   ]
  },
  {
   "cell_type": "markdown",
   "metadata": {},
   "source": [
    "### Sentence Length and Popularity"
   ]
  },
  {
   "cell_type": "code",
   "execution_count": 60,
   "metadata": {},
   "outputs": [
    {
     "data": {
      "text/plain": [
       "<seaborn.axisgrid.JointGrid at 0x19e73942470>"
      ]
     },
     "execution_count": 60,
     "metadata": {},
     "output_type": "execute_result"
    },
    {
     "data": {
      "image/png": "[encoded data removed]",
      "text/plain": [
       "<Figure size 432x432 with 3 Axes>"
      ]
     },
     "metadata": {
      "needs_background": "light"
     },
     "output_type": "display_data"
    }
   ],
   "source": [
    "# sns.relplot(data = df_main, x=\"popularity_score\", y=\"avg_sent_len\");\n",
    "sns.jointplot(data=df_main, x='popularity_score', xlim=(0,0.009), y='avg_sent_len', kind='reg')"
   ]
  },
  {
   "cell_type": "markdown",
   "metadata": {},
   "source": [
    "#### We observe that as TED talk with lengthy sentences has low popularity score than the TED talks with smaller sentence length. This shows that people may get bored with lengthy talks and prefers to watch more lighter and smaller talks that are easy to follow."
   ]
  },
  {
   "cell_type": "markdown",
   "metadata": {},
   "source": [
    "### Taking out details from 'ratings' columns, it seems to contain tags associated with the TED talk"
   ]
  },
  {
   "cell_type": "code",
   "execution_count": 61,
   "metadata": {},
   "outputs": [
    {
     "data": {
      "text/plain": [
       "0    [{'id': 7, 'name': 'Funny', 'count': 19645}, {...\n",
       "1    [{'id': 7, 'name': 'Funny', 'count': 544}, {'i...\n",
       "Name: rating, dtype: object"
      ]
     },
     "execution_count": 61,
     "metadata": {},
     "output_type": "execute_result"
    }
   ],
   "source": [
    "import ast\n",
    "df_main['rating'] = df1['ratings'].apply(ast.literal_eval)\n",
    "df_main['rating'].head(2)"
   ]
  },
  {
   "cell_type": "code",
   "execution_count": 145,
   "metadata": {},
   "outputs": [
    {
     "data": {
      "text/plain": [
       "[{'id': 7, 'name': 'Funny', 'count': 19645},\n",
       " {'id': 1, 'name': 'Beautiful', 'count': 4573},\n",
       " {'id': 9, 'name': 'Ingenious', 'count': 6073},\n",
       " {'id': 3, 'name': 'Courageous', 'count': 3253},\n",
       " {'id': 11, 'name': 'Longwinded', 'count': 387},\n",
       " {'id': 2, 'name': 'Confusing', 'count': 242},\n",
       " {'id': 8, 'name': 'Informative', 'count': 7346},\n",
       " {'id': 22, 'name': 'Fascinating', 'count': 10581},\n",
       " {'id': 21, 'name': 'Unconvincing', 'count': 300},\n",
       " {'id': 24, 'name': 'Persuasive', 'count': 10704},\n",
       " {'id': 23, 'name': 'Jaw-dropping', 'count': 4439},\n",
       " {'id': 25, 'name': 'OK', 'count': 1174},\n",
       " {'id': 26, 'name': 'Obnoxious', 'count': 209},\n",
       " {'id': 10, 'name': 'Inspiring', 'count': 24924}]"
      ]
     },
     "execution_count": 145,
     "metadata": {},
     "output_type": "execute_result"
    }
   ],
   "source": [
    "df_main['rating'][0]"
   ]
  },
  {
   "cell_type": "code",
   "execution_count": null,
   "metadata": {},
   "outputs": [],
   "source": []
  },
  {
   "cell_type": "code",
   "execution_count": 62,
   "metadata": {},
   "outputs": [
    {
     "data": {
      "text/plain": [
       "{'Funny': 353876,\n",
       " 'Beautiful': 457422,\n",
       " 'Ingenious': 358729,\n",
       " 'Courageous': 401100,\n",
       " 'Longwinded': 79241,\n",
       " 'Confusing': 50643,\n",
       " 'Informative': 851315,\n",
       " 'Fascinating': 753491,\n",
       " 'Unconvincing': 128612,\n",
       " 'Persuasive': 531429,\n",
       " 'Jaw-dropping': 350739,\n",
       " 'OK': 196120,\n",
       " 'Obnoxious': 61778,\n",
       " 'Inspiring': 1262901}"
      ]
     },
     "execution_count": 62,
     "metadata": {},
     "output_type": "execute_result"
    }
   ],
   "source": [
    "# df_main['rating'][0]\n",
    "#get all types of rating keyword\n",
    "rating_word = dict()\n",
    "# for rating in df_main['rating'].apply(lambda x: json_normalize(json.loads(x))):\n",
    "for rating in df_main['rating']:\n",
    "    for w in rating:\n",
    "        if w['name'] not in rating_word.keys():\n",
    "            rating_word[w['name']] = 0\n",
    "        else:\n",
    "            rating_word[w['name']] += w['count']\n",
    "rating_word"
   ]
  },
  {
   "cell_type": "code",
   "execution_count": 63,
   "metadata": {},
   "outputs": [],
   "source": [
    "pos_word = {'Beautiful' , 'Courageous', 'Fascinating', 'Funny', 'Informative', 'Ingenious', 'Inspiring', \n",
    "            'Jaw-dropping', 'Persuasive'}\n",
    "neg_word = {'Longwinded', 'Obnoxious', 'Unconvincing', 'Confusing'}\n",
    "neutral = {'OK'}"
   ]
  },
  {
   "cell_type": "code",
   "execution_count": 64,
   "metadata": {},
   "outputs": [
    {
     "data": {
      "text/plain": [
       "['Funny']"
      ]
     },
     "execution_count": 64,
     "metadata": {},
     "output_type": "execute_result"
    }
   ],
   "source": [
    "desc = [x for _,x in sorted(zip([rating_word.values()], rating_word.keys()), reverse=True)]\n",
    "desc"
   ]
  },
  {
   "cell_type": "code",
   "execution_count": 65,
   "metadata": {},
   "outputs": [
    {
     "data": {
      "text/plain": [
       "'Funny'"
      ]
     },
     "execution_count": 65,
     "metadata": {},
     "output_type": "execute_result"
    }
   ],
   "source": [
    "list(rating_word.keys())[0]"
   ]
  },
  {
   "cell_type": "code",
   "execution_count": 66,
   "metadata": {},
   "outputs": [
    {
     "data": {
      "image/png": "[encoded data removed]",
      "text/plain": [
       "<Figure size 432x288 with 1 Axes>"
      ]
     },
     "metadata": {
      "needs_background": "light"
     },
     "output_type": "display_data"
    }
   ],
   "source": [
    "# sns.barplot(data=rating_word,x=rating_word.keys(), y = rating_word.values())\n",
    "neg_ind = [i for i in range(len(rating_word)) if list(rating_word.keys())[i] in neg_word]\n",
    "pos_ind = [i for i in range(len(rating_word)) if list(rating_word.keys())[i] in pos_word]\n",
    "bar = plt.bar(range(len(rating_word)), list(rating_word.values()), align='center')\n",
    "[bar[i].set_color('y') for i in neg_ind]\n",
    "[bar[i].set_color('c') for i in pos_ind]\n",
    "plt.xticks(range(len(rating_word)), list(rating_word.keys()), rotation=90)\n",
    "# plt.xticks(ind, rating_word, rotation=90, ha=\"right\")\n",
    "plt.show()"
   ]
  },
  {
   "cell_type": "code",
   "execution_count": 67,
   "metadata": {},
   "outputs": [],
   "source": [
    "# json_normalize(json.loads(df_main['rating'][0]))['count'].sum()\n",
    "#df_main['rating_cnt'] = df_main['rating'].apply(lambda x: json_normalize(json.loads(x))['count'].sum())"
   ]
  },
  {
   "cell_type": "code",
   "execution_count": 68,
   "metadata": {},
   "outputs": [],
   "source": [
    "sentiment = ['positive', 'negative', 'neutral']\n",
    "sent_labl = []\n",
    "for rating in df_main['rating']:\n",
    "    pos_cnt = 0\n",
    "    neg_cnt = 0\n",
    "    neutral = 0\n",
    "    for w in rating:\n",
    "        if w['name'] in pos_word:\n",
    "            pos_cnt += w['count']\n",
    "        elif w['name'] in neg_word:\n",
    "            neg_cnt += w['count']\n",
    "        else:\n",
    "            neutral += w['count']\n",
    "    ind = np.argmax([pos_cnt, neg_cnt, neutral])\n",
    "    sent_labl.append(sentiment[ind])\n",
    "# len(sent_labl)\n",
    "df_main['sentiment_label'] = np.array(sent_labl)"
   ]
  },
  {
   "cell_type": "code",
   "execution_count": 69,
   "metadata": {},
   "outputs": [
    {
     "data": {
      "text/plain": [
       "positive    2386\n",
       "negative      13\n",
       "Name: sentiment_label, dtype: int64"
      ]
     },
     "execution_count": 69,
     "metadata": {},
     "output_type": "execute_result"
    }
   ],
   "source": [
    "df_main['sentiment_label'].value_counts()"
   ]
  },
  {
   "cell_type": "code",
   "execution_count": 70,
   "metadata": {
    "scrolled": true
   },
   "outputs": [
    {
     "data": {
      "text/html": [
       "<div>\n",
       "<style scoped>\n",
       "    .dataframe tbody tr th:only-of-type {\n",
       "        vertical-align: middle;\n",
       "    }\n",
       "\n",
       "    .dataframe tbody tr th {\n",
       "        vertical-align: top;\n",
       "    }\n",
       "\n",
       "    .dataframe thead th {\n",
       "        text-align: right;\n",
       "    }\n",
       "</style>\n",
       "<table border=\"1\" class=\"dataframe\">\n",
       "  <thead>\n",
       "    <tr style=\"text-align: right;\">\n",
       "      <th></th>\n",
       "      <th>url</th>\n",
       "      <th>film_date</th>\n",
       "      <th>views</th>\n",
       "      <th>comments</th>\n",
       "      <th>month</th>\n",
       "      <th>duration</th>\n",
       "      <th>languages</th>\n",
       "      <th>title</th>\n",
       "      <th>tags</th>\n",
       "      <th>main_speaker</th>\n",
       "      <th>transcript</th>\n",
       "      <th>topic</th>\n",
       "      <th>topic_tag</th>\n",
       "      <th>avg_sent_len</th>\n",
       "      <th>occupation</th>\n",
       "      <th>gender</th>\n",
       "      <th>popularity_score</th>\n",
       "      <th>rating</th>\n",
       "      <th>sentiment_label</th>\n",
       "    </tr>\n",
       "  </thead>\n",
       "  <tbody>\n",
       "    <tr>\n",
       "      <th>0</th>\n",
       "      <td>https://www.ted.com/talks/ken_robinson_says_sc...</td>\n",
       "      <td>24-02-2006</td>\n",
       "      <td>47227110</td>\n",
       "      <td>4553</td>\n",
       "      <td>2</td>\n",
       "      <td>19.400000</td>\n",
       "      <td>60</td>\n",
       "      <td>Do schools kill creativity?</td>\n",
       "      <td>['children', 'creativity', 'culture', 'dance',...</td>\n",
       "      <td>Ken Robinson</td>\n",
       "      <td>Good morning. How are you?(Laughter)It's been ...</td>\n",
       "      <td>13.0</td>\n",
       "      <td>students-education-teachers-learning-teacher-s...</td>\n",
       "      <td>58.072874</td>\n",
       "      <td>author</td>\n",
       "      <td>male</td>\n",
       "      <td>0.000285</td>\n",
       "      <td>[{'id': 7, 'name': 'Funny', 'count': 19645}, {...</td>\n",
       "      <td>positive</td>\n",
       "    </tr>\n",
       "    <tr>\n",
       "      <th>1</th>\n",
       "      <td>https://www.ted.com/talks/al_gore_on_averting_...</td>\n",
       "      <td>24-02-2006</td>\n",
       "      <td>3200520</td>\n",
       "      <td>265</td>\n",
       "      <td>2</td>\n",
       "      <td>16.283333</td>\n",
       "      <td>43</td>\n",
       "      <td>Averting the climate crisis</td>\n",
       "      <td>['alternative energy', 'cars', 'climate change...</td>\n",
       "      <td>Al Gore</td>\n",
       "      <td>Thank you so much, Chris. And it's truly a gre...</td>\n",
       "      <td>5.0</td>\n",
       "      <td>africa-countries-dollars-business-india-growth</td>\n",
       "      <td>107.044776</td>\n",
       "      <td>advocate</td>\n",
       "      <td>male</td>\n",
       "      <td>0.000332</td>\n",
       "      <td>[{'id': 7, 'name': 'Funny', 'count': 544}, {'i...</td>\n",
       "      <td>positive</td>\n",
       "    </tr>\n",
       "    <tr>\n",
       "      <th>2</th>\n",
       "      <td>https://www.ted.com/talks/david_pogue_says_sim...</td>\n",
       "      <td>23-02-2006</td>\n",
       "      <td>1636292</td>\n",
       "      <td>124</td>\n",
       "      <td>2</td>\n",
       "      <td>21.433333</td>\n",
       "      <td>26</td>\n",
       "      <td>Simplicity sells</td>\n",
       "      <td>['computers', 'entertainment', 'interface desi...</td>\n",
       "      <td>David Pogue</td>\n",
       "      <td>(Music: \"The Sound of Silence,\" Simon &amp; Garfun...</td>\n",
       "      <td>14.0</td>\n",
       "      <td>computer-internet-video-machine-web-digital</td>\n",
       "      <td>52.350365</td>\n",
       "      <td>historian</td>\n",
       "      <td>male</td>\n",
       "      <td>0.000362</td>\n",
       "      <td>[{'id': 7, 'name': 'Funny', 'count': 964}, {'i...</td>\n",
       "      <td>positive</td>\n",
       "    </tr>\n",
       "  </tbody>\n",
       "</table>\n",
       "</div>"
      ],
      "text/plain": [
       "                                                 url   film_date     views  \\\n",
       "0  https://www.ted.com/talks/ken_robinson_says_sc...  24-02-2006  47227110   \n",
       "1  https://www.ted.com/talks/al_gore_on_averting_...  24-02-2006   3200520   \n",
       "2  https://www.ted.com/talks/david_pogue_says_sim...  23-02-2006   1636292   \n",
       "\n",
       "   comments  month   duration  languages                        title  \\\n",
       "0      4553      2  19.400000         60  Do schools kill creativity?   \n",
       "1       265      2  16.283333         43  Averting the climate crisis   \n",
       "2       124      2  21.433333         26             Simplicity sells   \n",
       "\n",
       "                                                tags  main_speaker  \\\n",
       "0  ['children', 'creativity', 'culture', 'dance',...  Ken Robinson   \n",
       "1  ['alternative energy', 'cars', 'climate change...       Al Gore   \n",
       "2  ['computers', 'entertainment', 'interface desi...   David Pogue   \n",
       "\n",
       "                                          transcript  topic  \\\n",
       "0  Good morning. How are you?(Laughter)It's been ...   13.0   \n",
       "1  Thank you so much, Chris. And it's truly a gre...    5.0   \n",
       "2  (Music: \"The Sound of Silence,\" Simon & Garfun...   14.0   \n",
       "\n",
       "                                           topic_tag  avg_sent_len occupation  \\\n",
       "0  students-education-teachers-learning-teacher-s...     58.072874     author   \n",
       "1     africa-countries-dollars-business-india-growth    107.044776   advocate   \n",
       "2        computer-internet-video-machine-web-digital     52.350365  historian   \n",
       "\n",
       "  gender  popularity_score                                             rating  \\\n",
       "0   male          0.000285  [{'id': 7, 'name': 'Funny', 'count': 19645}, {...   \n",
       "1   male          0.000332  [{'id': 7, 'name': 'Funny', 'count': 544}, {'i...   \n",
       "2   male          0.000362  [{'id': 7, 'name': 'Funny', 'count': 964}, {'i...   \n",
       "\n",
       "  sentiment_label  \n",
       "0        positive  \n",
       "1        positive  \n",
       "2        positive  "
      ]
     },
     "execution_count": 70,
     "metadata": {},
     "output_type": "execute_result"
    }
   ],
   "source": [
    "df_main.head(3)"
   ]
  },
  {
   "cell_type": "code",
   "execution_count": 71,
   "metadata": {},
   "outputs": [
    {
     "name": "stderr",
     "output_type": "stream",
     "text": [
      "C:\\Users\\Arti\\Anaconda3\\lib\\site-packages\\seaborn\\categorical.py:3666: UserWarning: The `factorplot` function has been renamed to `catplot`. The original name will be removed in a future release. Please update your code. Note that the default `kind` in `factorplot` (`'point'`) has changed `'strip'` in `catplot`.\n",
      "  warnings.warn(msg)\n",
      "C:\\Users\\Arti\\Anaconda3\\lib\\site-packages\\seaborn\\categorical.py:3672: UserWarning: The `size` paramter has been renamed to `height`; please update your code.\n",
      "  warnings.warn(msg, UserWarning)\n"
     ]
    },
    {
     "data": {
      "text/plain": [
       "<Figure size 2160x864 with 0 Axes>"
      ]
     },
     "metadata": {},
     "output_type": "display_data"
    },
    {
     "data": {
      "image/png": "[encoded data removed]",
      "text/plain": [
       "<Figure size 1218.12x576 with 1 Axes>"
      ]
     },
     "metadata": {},
     "output_type": "display_data"
    }
   ],
   "source": [
    "plt.figure(figsize=(30,12))\n",
    "df_main['pscore'] = df_main['popularity_score'] * 100\n",
    "with sns.axes_style(style='ticks'):\n",
    "    g = sns.factorplot(\"pscore\", \"topic_tag\", \"gender\", data=df_main, kind=\"box\",size=8, aspect=2)\n",
    "    g.set_axis_labels(\"Popularity Score\", \"TED Talk Category\")\n",
    "#     g.set_xticklabels(rotation=90)"
   ]
  },
  {
   "cell_type": "markdown",
   "metadata": {},
   "source": [
    "#### Observtion\n",
    "1. We can observe many outliers, on which we can't generalize a particular topic to be popular only if it has a single TED Talk with high popularity.\n",
    "2. Secondly, one can observe that in 90% of the TED Talk categories, female outbar male in sense of popularity score. So we can say that TED Talks given by female are more popular when compared to male."
   ]
  },
  {
   "cell_type": "code",
   "execution_count": 72,
   "metadata": {},
   "outputs": [
    {
     "data": {
      "text/plain": [
       "Index(['url', 'film_date', 'views', 'comments', 'month', 'duration',\n",
       "       'languages', 'title', 'tags', 'main_speaker', 'transcript', 'topic',\n",
       "       'topic_tag', 'avg_sent_len', 'occupation', 'gender', 'popularity_score',\n",
       "       'rating', 'sentiment_label', 'pscore'],\n",
       "      dtype='object')"
      ]
     },
     "execution_count": 72,
     "metadata": {},
     "output_type": "execute_result"
    }
   ],
   "source": [
    "df_main.columns"
   ]
  },
  {
   "cell_type": "code",
   "execution_count": 73,
   "metadata": {},
   "outputs": [],
   "source": [
    "final_df = df_main[['duration','languages','topic','avg_sent_len','occupation','gender','sentiment_label','pscore']].copy()"
   ]
  },
  {
   "cell_type": "code",
   "execution_count": 74,
   "metadata": {},
   "outputs": [],
   "source": [
    "final_df.to_csv(\"dataset/final_data.csv\",index=False)"
   ]
  },
  {
   "cell_type": "code",
   "execution_count": null,
   "metadata": {},
   "outputs": [],
   "source": []
  }
 ],
 "metadata": {
  "kernelspec": {
   "display_name": "Python 3",
   "language": "python",
   "name": "python3"
  },
  "language_info": {
   "codemirror_mode": {
    "name": "ipython",
    "version": 3
   },
   "file_extension": ".py",
   "mimetype": "text/x-python",
   "name": "python",
   "nbconvert_exporter": "python",
   "pygments_lexer": "ipython3",
   "version": "3.7.3"
  }
 },
 "nbformat": 4,
 "nbformat_minor": 2
}
