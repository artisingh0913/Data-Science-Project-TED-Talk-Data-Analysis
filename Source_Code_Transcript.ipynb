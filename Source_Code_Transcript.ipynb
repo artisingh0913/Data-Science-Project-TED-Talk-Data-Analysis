{
 "cells": [
  {
   "cell_type": "markdown",
   "metadata": {},
   "source": [
    "### Data Analysis"
   ]
  },
  {
   "cell_type": "code",
   "execution_count": 1,
   "metadata": {},
   "outputs": [],
   "source": [
    "import csv\n",
    "import pandas as pd\n",
    "import numpy as np\n",
    "from sklearn.feature_extraction.text import TfidfVectorizer\n",
    "from sklearn.feature_extraction.text import CountVectorizer\n",
    "\n",
    "## Visualization and Plotting related Libraries\n",
    "%matplotlib inline\n",
    "import matplotlib.pyplot as plt\n",
    "import seaborn as sns\n",
    "\n",
    "## NLP Libraries\n",
    "from wordcloud import WordCloud, STOPWORDS, ImageColorGenerator\n",
    "from sklearn.decomposition import NMF\n",
    "from sklearn.pipeline import Pipeline\n",
    "from nltk.tokenize import sent_tokenize\n",
    "\n",
    "import warnings\n",
    "warnings.filterwarnings(\"ignore\")"
   ]
  },
  {
   "cell_type": "code",
   "execution_count": 2,
   "metadata": {},
   "outputs": [
    {
     "data": {
      "text/html": [
       "<div>\n",
       "<style scoped>\n",
       "    .dataframe tbody tr th:only-of-type {\n",
       "        vertical-align: middle;\n",
       "    }\n",
       "\n",
       "    .dataframe tbody tr th {\n",
       "        vertical-align: top;\n",
       "    }\n",
       "\n",
       "    .dataframe thead th {\n",
       "        text-align: right;\n",
       "    }\n",
       "</style>\n",
       "<table border=\"1\" class=\"dataframe\">\n",
       "  <thead>\n",
       "    <tr style=\"text-align: right;\">\n",
       "      <th></th>\n",
       "      <th>transcript</th>\n",
       "      <th>url</th>\n",
       "    </tr>\n",
       "  </thead>\n",
       "  <tbody>\n",
       "    <tr>\n",
       "      <th>0</th>\n",
       "      <td>Good morning. How are you?(Laughter)It's been ...</td>\n",
       "      <td>https://www.ted.com/talks/ken_robinson_says_sc...</td>\n",
       "    </tr>\n",
       "    <tr>\n",
       "      <th>1</th>\n",
       "      <td>Thank you so much, Chris. And it's truly a gre...</td>\n",
       "      <td>https://www.ted.com/talks/al_gore_on_averting_...</td>\n",
       "    </tr>\n",
       "  </tbody>\n",
       "</table>\n",
       "</div>"
      ],
      "text/plain": [
       "                                          transcript  \\\n",
       "0  Good morning. How are you?(Laughter)It's been ...   \n",
       "1  Thank you so much, Chris. And it's truly a gre...   \n",
       "\n",
       "                                                 url  \n",
       "0  https://www.ted.com/talks/ken_robinson_says_sc...  \n",
       "1  https://www.ted.com/talks/al_gore_on_averting_...  "
      ]
     },
     "execution_count": 2,
     "metadata": {},
     "output_type": "execute_result"
    }
   ],
   "source": [
    "df_scrpt = pd.read_csv(\"dataset/transcripts.csv\")\n",
    "df_scrpt.head(2)"
   ]
  },
  {
   "cell_type": "code",
   "execution_count": 3,
   "metadata": {},
   "outputs": [],
   "source": [
    "vectorizer = TfidfVectorizer(stop_words=\"english\",max_df = 0.25, min_df = 0.02)\n",
    "vectors = vectorizer.fit_transform(df_scrpt['transcript'])"
   ]
  },
  {
   "cell_type": "code",
   "execution_count": 4,
   "metadata": {},
   "outputs": [
    {
     "data": {
      "text/plain": [
       "<2467x3929 sparse matrix of type '<class 'numpy.float64'>'\n",
       "\twith 587482 stored elements in Compressed Sparse Row format>"
      ]
     },
     "execution_count": 4,
     "metadata": {},
     "output_type": "execute_result"
    }
   ],
   "source": [
    "vectors"
   ]
  },
  {
   "cell_type": "code",
   "execution_count": 5,
   "metadata": {},
   "outputs": [],
   "source": [
    "vocab = vectorizer.get_feature_names()"
   ]
  },
  {
   "cell_type": "code",
   "execution_count": 6,
   "metadata": {},
   "outputs": [
    {
     "data": {
      "text/plain": [
       "3929"
      ]
     },
     "execution_count": 6,
     "metadata": {},
     "output_type": "execute_result"
    }
   ],
   "source": [
    "len(vocab)"
   ]
  },
  {
   "cell_type": "code",
   "execution_count": 7,
   "metadata": {},
   "outputs": [
    {
     "data": {
      "text/plain": [
       "<2467x3929 sparse matrix of type '<class 'numpy.float64'>'\n",
       "\twith 587482 stored elements in Compressed Sparse Row format>"
      ]
     },
     "execution_count": 7,
     "metadata": {},
     "output_type": "execute_result"
    }
   ],
   "source": [
    "vectors"
   ]
  },
  {
   "cell_type": "code",
   "execution_count": 8,
   "metadata": {},
   "outputs": [
    {
     "data": {
      "text/plain": [
       "(1, 3929)"
      ]
     },
     "execution_count": 8,
     "metadata": {},
     "output_type": "execute_result"
    }
   ],
   "source": [
    "vocab_sum = vectors.sum(axis=0)\n",
    "vocab_sum.shape"
   ]
  },
  {
   "cell_type": "code",
   "execution_count": 9,
   "metadata": {},
   "outputs": [
    {
     "data": {
      "text/html": [
       "<div>\n",
       "<style scoped>\n",
       "    .dataframe tbody tr th:only-of-type {\n",
       "        vertical-align: middle;\n",
       "    }\n",
       "\n",
       "    .dataframe tbody tr th {\n",
       "        vertical-align: top;\n",
       "    }\n",
       "\n",
       "    .dataframe thead th {\n",
       "        text-align: right;\n",
       "    }\n",
       "</style>\n",
       "<table border=\"1\" class=\"dataframe\">\n",
       "  <thead>\n",
       "    <tr style=\"text-align: right;\">\n",
       "      <th></th>\n",
       "      <th>word</th>\n",
       "      <th>rank</th>\n",
       "    </tr>\n",
       "  </thead>\n",
       "  <tbody>\n",
       "    <tr>\n",
       "      <th>2347</th>\n",
       "      <td>music</td>\n",
       "      <td>57.173090</td>\n",
       "    </tr>\n",
       "    <tr>\n",
       "      <th>3887</th>\n",
       "      <td>women</td>\n",
       "      <td>54.391678</td>\n",
       "    </tr>\n",
       "    <tr>\n",
       "      <th>463</th>\n",
       "      <td>brain</td>\n",
       "      <td>48.903121</td>\n",
       "    </tr>\n",
       "    <tr>\n",
       "      <th>646</th>\n",
       "      <td>city</td>\n",
       "      <td>38.605268</td>\n",
       "    </tr>\n",
       "    <tr>\n",
       "      <th>987</th>\n",
       "      <td>design</td>\n",
       "      <td>37.740242</td>\n",
       "    </tr>\n",
       "  </tbody>\n",
       "</table>\n",
       "</div>"
      ],
      "text/plain": [
       "        word       rank\n",
       "2347   music  57.173090\n",
       "3887   women  54.391678\n",
       "463    brain  48.903121\n",
       "646     city  38.605268\n",
       "987   design  37.740242"
      ]
     },
     "execution_count": 9,
     "metadata": {},
     "output_type": "execute_result"
    }
   ],
   "source": [
    "data = []\n",
    "for ind, word in enumerate(vocab):\n",
    "        data.append((word, vocab_sum[0,ind]))\n",
    "\n",
    "df_vocab = pd.DataFrame(data, columns=['word','rank'])\n",
    "df_vocab.sort_values('rank',ascending=False,inplace=True)\n",
    "df_vocab.head()"
   ]
  },
  {
   "cell_type": "code",
   "execution_count": 10,
   "metadata": {},
   "outputs": [
    {
     "data": {
      "image/png": "[encoded data removed]",
      "text/plain": [
       "<Figure size 432x288 with 1 Axes>"
      ]
     },
     "metadata": {
      "needs_background": "light"
     },
     "output_type": "display_data"
    }
   ],
   "source": [
    "fig, ax = plt.subplots(ncols=1, nrows=1)\n",
    "sns.barplot(data=df_vocab[:21], x='rank',y='word', ax=ax, palette = 'Blues_r');"
   ]
  },
  {
   "cell_type": "markdown",
   "metadata": {},
   "source": [
    "https://www.datacamp.com/community/tutorials/wordcloud-python"
   ]
  },
  {
   "cell_type": "code",
   "execution_count": 11,
   "metadata": {},
   "outputs": [],
   "source": [
    "word_dict = dict(zip(df_vocab['word'],df_vocab['rank']))"
   ]
  },
  {
   "cell_type": "code",
   "execution_count": 12,
   "metadata": {},
   "outputs": [
    {
     "data": {
      "image/png": "[encoded data removed]",
      "text/plain": [
       "<Figure size 432x288 with 1 Axes>"
      ]
     },
     "metadata": {
      "needs_background": "light"
     },
     "output_type": "display_data"
    }
   ],
   "source": [
    "# Create and generate a word cloud image:\n",
    "wordcloud = WordCloud(background_color=\"white\").generate_from_frequencies(word_dict)\n",
    "\n",
    "# Display the generated image:\n",
    "# the argument interpolation=\"bilinear\" in the plt.imshow(). This is to make the displayed image appear more smoothly. \n",
    "plt.imshow(wordcloud, interpolation='bilinear')\n",
    "plt.axis(\"off\")\n",
    "plt.show()"
   ]
  },
  {
   "cell_type": "code",
   "execution_count": 13,
   "metadata": {},
   "outputs": [
    {
     "data": {
      "text/plain": [
       "<wordcloud.wordcloud.WordCloud at 0x13094da5860>"
      ]
     },
     "execution_count": 13,
     "metadata": {},
     "output_type": "execute_result"
    }
   ],
   "source": [
    "wordcloud.to_file(\"word_rank.png\")"
   ]
  },
  {
   "cell_type": "markdown",
   "metadata": {},
   "source": [
    "https://medium.com/mlreview/topic-modeling-with-scikit-learn-e80d33668730\n",
    "https://scikit-learn.org/stable/auto_examples/applications/plot_topics_extraction_with_nmf_lda.html"
   ]
  },
  {
   "cell_type": "code",
   "execution_count": 14,
   "metadata": {},
   "outputs": [
    {
     "name": "stdout",
     "output_type": "stream",
     "text": [
      "0 :  ['god', 'stories', 'mother', 'father', 'book', 'felt']\n",
      "1 :  ['music', 'sound', 'ends', 'song', 'musical', 'piece']\n",
      "2 :  ['women', 'men', 'girls', 'woman', 'sex', 'gender']\n",
      "3 :  ['cancer', 'cells', 'patients', 'disease', 'patient', 'cell']\n",
      "4 :  ['africa', 'countries', 'dollars', 'business', 'india', 'growth']\n",
      "5 :  ['universe', 'earth', 'planets', 'mars', 'planet', 'stars']\n",
      "6 :  ['brain', 'neurons', 'brains', 'cells', 'cortex', 'activity']\n",
      "7 :  ['city', 'cities', 'cars', 'urban', 'car', 'buildings']\n",
      "8 :  ['design', 'designers', 'art', 'architecture', 'materials', 'designed']\n",
      "9 :  ['ocean', 'species', 'animals', 'fish', 'sea', 'food']\n",
      "10 :  ['war', 'government', 'political', 'democracy', 'rights', 'violence']\n",
      "11 :  ['robot', 'robots', 'machines', 'legs', 'machine', 'robotic']\n",
      "12 :  ['students', 'education', 'teachers', 'learning', 'teacher', 'schools']\n",
      "13 :  ['computer', 'internet', 'video', 'machine', 'web', 'digital']\n"
     ]
    }
   ],
   "source": [
    "n = 14\n",
    "nmf = NMF(n_components=n,random_state=0)\n",
    "\n",
    "topics = nmf.fit_transform(vectors)\n",
    "top_word = 6\n",
    "topic_word, word_weight = {}, {}\n",
    "for tid, t in enumerate(nmf.components_):\n",
    "    topic_word[tid] = [vectorizer.get_feature_names()[i] for i in t.argsort()[:-top_word - 1:-1]]\n",
    "    word_weight[tid] = t[t.argsort()[:-top_word - 1:-1]]\n",
    "\n",
    "for key, val in topic_word.items():\n",
    "    print(key, \": \", val)"
   ]
  },
  {
   "cell_type": "code",
   "execution_count": 15,
   "metadata": {},
   "outputs": [],
   "source": [
    "# r = 5\n",
    "# c = 2\n",
    "# fig, ax = plt.subplots(figsize=(12,16),nrows=r, ncols=c)\n",
    "# plt.subplots_adjust(wspace  =  1, hspace  =  0.5)\n",
    "# plt.xticks(rotation=90)\n",
    "\n",
    "# i=0\n",
    "# for j in range(r):\n",
    "    \n",
    "#     for k in range(c):\n",
    "#         sns.barplot(x=topic_word[i], y=word_weight[i], palette=\"Blues_r\", ax=ax[j][k])\n",
    "#         i += 1\n",
    "#     if i > 9:\n",
    "#         break\n",
    "        \n",
    "# plt.show()"
   ]
  },
  {
   "cell_type": "code",
   "execution_count": 16,
   "metadata": {},
   "outputs": [
    {
     "name": "stdout",
     "output_type": "stream",
     "text": [
      "\n",
      " Topic Weight:  [0.05407948 0.02938081 0.02757135 0.         0.         0.01619547\n",
      " 0.01848698 0.         0.00789693 0.00561622 0.         0.\n",
      " 0.14795119 0.        ]\n",
      "\n",
      " Relevant topic for the Transcript:  12\n",
      "\n",
      " Transcript:  Good morning. How are you?(Laughter)It's been great, hasn't it? I've been blown away by the whole thing. In fact, I'm leaving.(Laughter)There have been three themes running through the conference which are relevant to what I want to talk about. One is the extraordinary evidence of human creativity in all of the presentations that we've had and in all of the people here. Just the variety of it and the range of it. The second is that it's put us in a place where we have no idea what's going to happen, in terms of the future. No idea how this may play out.I have an interest in education. Actually, what I find is everybody has an interest in education. Don't you? I find this very interesting. If you're at a dinner party, and you say you work in education — Actually, you're not often at dinner parties, frankly.(Laughter)If you work in education, you're not asked.(Laughter)And you're never asked back, curiously. That's strange to me. But if you are, and you say to somebody, you know, they sa ...more\n"
     ]
    }
   ],
   "source": [
    "pipeline = Pipeline([\n",
    "    ('tfidf', vectorizer),\n",
    "    ('nmf', nmf)\n",
    "])\n",
    "\n",
    "# talk = ted_main_df[ted_main_df['url']==transcripts_df['url'].iloc[document_id]]\n",
    "# print('\\nTrue tags from ted_main.csv: \\n',talk['tags'])\n",
    "\n",
    "scrpt0 = pipeline.transform([df_scrpt['transcript'].iloc[0]])\n",
    "\n",
    "print(\"\\n Topic Weight: \", scrpt0[0])\n",
    "print(\"\\n Relevant topic for the Transcript: \", np.argmax(scrpt0[0]))\n",
    "print(\"\\n Transcript: \", df_scrpt['transcript'].iloc[0][:1000], \"...more\")"
   ]
  },
  {
   "cell_type": "code",
   "execution_count": 17,
   "metadata": {},
   "outputs": [
    {
     "name": "stdout",
     "output_type": "stream",
     "text": [
      "12\n"
     ]
    }
   ],
   "source": [
    "topic = np.argmax(scrpt0)\n",
    "print(topic)"
   ]
  },
  {
   "cell_type": "code",
   "execution_count": 27,
   "metadata": {},
   "outputs": [],
   "source": [
    "df_scrpt['avg_sent_len'] = [sum(len(x.split()) for x in sentence)/len(sent_tokenize(y)) for y in df_scrpt['transcript']]"
   ]
  },
  {
   "cell_type": "code",
   "execution_count": 18,
   "metadata": {},
   "outputs": [
    {
     "data": {
      "text/html": [
       "<div>\n",
       "<style scoped>\n",
       "    .dataframe tbody tr th:only-of-type {\n",
       "        vertical-align: middle;\n",
       "    }\n",
       "\n",
       "    .dataframe tbody tr th {\n",
       "        vertical-align: top;\n",
       "    }\n",
       "\n",
       "    .dataframe thead th {\n",
       "        text-align: right;\n",
       "    }\n",
       "</style>\n",
       "<table border=\"1\" class=\"dataframe\">\n",
       "  <thead>\n",
       "    <tr style=\"text-align: right;\">\n",
       "      <th></th>\n",
       "      <th>transcript</th>\n",
       "      <th>url</th>\n",
       "      <th>topic</th>\n",
       "      <th>topic_tag</th>\n",
       "    </tr>\n",
       "  </thead>\n",
       "  <tbody>\n",
       "    <tr>\n",
       "      <th>0</th>\n",
       "      <td>Good morning. How are you?(Laughter)It's been ...</td>\n",
       "      <td>https://www.ted.com/talks/ken_robinson_says_sc...</td>\n",
       "      <td>13</td>\n",
       "      <td>students-education-teachers-learning-teacher-s...</td>\n",
       "    </tr>\n",
       "    <tr>\n",
       "      <th>1</th>\n",
       "      <td>Thank you so much, Chris. And it's truly a gre...</td>\n",
       "      <td>https://www.ted.com/talks/al_gore_on_averting_...</td>\n",
       "      <td>5</td>\n",
       "      <td>africa-countries-dollars-business-india-growth</td>\n",
       "    </tr>\n",
       "    <tr>\n",
       "      <th>2</th>\n",
       "      <td>(Music: \"The Sound of Silence,\" Simon &amp; Garfun...</td>\n",
       "      <td>https://www.ted.com/talks/david_pogue_says_sim...</td>\n",
       "      <td>14</td>\n",
       "      <td>computer-internet-video-machine-web-digital</td>\n",
       "    </tr>\n",
       "    <tr>\n",
       "      <th>3</th>\n",
       "      <td>If you're here today — and I'm very happy that...</td>\n",
       "      <td>https://www.ted.com/talks/majora_carter_s_tale...</td>\n",
       "      <td>8</td>\n",
       "      <td>city-cities-cars-urban-car-buildings</td>\n",
       "    </tr>\n",
       "    <tr>\n",
       "      <th>4</th>\n",
       "      <td>About 10 years ago, I took on the task to teac...</td>\n",
       "      <td>https://www.ted.com/talks/hans_rosling_shows_t...</td>\n",
       "      <td>5</td>\n",
       "      <td>africa-countries-dollars-business-india-growth</td>\n",
       "    </tr>\n",
       "  </tbody>\n",
       "</table>\n",
       "</div>"
      ],
      "text/plain": [
       "                                          transcript  \\\n",
       "0  Good morning. How are you?(Laughter)It's been ...   \n",
       "1  Thank you so much, Chris. And it's truly a gre...   \n",
       "2  (Music: \"The Sound of Silence,\" Simon & Garfun...   \n",
       "3  If you're here today — and I'm very happy that...   \n",
       "4  About 10 years ago, I took on the task to teac...   \n",
       "\n",
       "                                                 url  topic  \\\n",
       "0  https://www.ted.com/talks/ken_robinson_says_sc...     13   \n",
       "1  https://www.ted.com/talks/al_gore_on_averting_...      5   \n",
       "2  https://www.ted.com/talks/david_pogue_says_sim...     14   \n",
       "3  https://www.ted.com/talks/majora_carter_s_tale...      8   \n",
       "4  https://www.ted.com/talks/hans_rosling_shows_t...      5   \n",
       "\n",
       "                                           topic_tag  \n",
       "0  students-education-teachers-learning-teacher-s...  \n",
       "1     africa-countries-dollars-business-india-growth  \n",
       "2        computer-internet-video-machine-web-digital  \n",
       "3               city-cities-cars-urban-car-buildings  \n",
       "4     africa-countries-dollars-business-india-growth  "
      ]
     },
     "execution_count": 18,
     "metadata": {},
     "output_type": "execute_result"
    }
   ],
   "source": [
    "df_scrpt['topic'] = df_scrpt['transcript'].apply(lambda x: np.argmax(pipeline.transform([x]))+1)\n",
    "df_scrpt['topic_tag'] =  df_scrpt['topic'].apply(lambda x: '-'.join(topic_word[x-1]))"
   ]
  },
  {
   "cell_type": "code",
   "execution_count": 28,
   "metadata": {},
   "outputs": [
    {
     "data": {
      "text/html": [
       "<div>\n",
       "<style scoped>\n",
       "    .dataframe tbody tr th:only-of-type {\n",
       "        vertical-align: middle;\n",
       "    }\n",
       "\n",
       "    .dataframe tbody tr th {\n",
       "        vertical-align: top;\n",
       "    }\n",
       "\n",
       "    .dataframe thead th {\n",
       "        text-align: right;\n",
       "    }\n",
       "</style>\n",
       "<table border=\"1\" class=\"dataframe\">\n",
       "  <thead>\n",
       "    <tr style=\"text-align: right;\">\n",
       "      <th></th>\n",
       "      <th>transcript</th>\n",
       "      <th>url</th>\n",
       "      <th>topic</th>\n",
       "      <th>topic_tag</th>\n",
       "      <th>avg_sent_len</th>\n",
       "    </tr>\n",
       "  </thead>\n",
       "  <tbody>\n",
       "    <tr>\n",
       "      <th>0</th>\n",
       "      <td>Good morning. How are you?(Laughter)It's been ...</td>\n",
       "      <td>https://www.ted.com/talks/ken_robinson_says_sc...</td>\n",
       "      <td>13</td>\n",
       "      <td>students-education-teachers-learning-teacher-s...</td>\n",
       "      <td>58.072874</td>\n",
       "    </tr>\n",
       "    <tr>\n",
       "      <th>1</th>\n",
       "      <td>Thank you so much, Chris. And it's truly a gre...</td>\n",
       "      <td>https://www.ted.com/talks/al_gore_on_averting_...</td>\n",
       "      <td>5</td>\n",
       "      <td>africa-countries-dollars-business-india-growth</td>\n",
       "      <td>107.044776</td>\n",
       "    </tr>\n",
       "    <tr>\n",
       "      <th>2</th>\n",
       "      <td>(Music: \"The Sound of Silence,\" Simon &amp; Garfun...</td>\n",
       "      <td>https://www.ted.com/talks/david_pogue_says_sim...</td>\n",
       "      <td>14</td>\n",
       "      <td>computer-internet-video-machine-web-digital</td>\n",
       "      <td>52.350365</td>\n",
       "    </tr>\n",
       "    <tr>\n",
       "      <th>3</th>\n",
       "      <td>If you're here today — and I'm very happy that...</td>\n",
       "      <td>https://www.ted.com/talks/majora_carter_s_tale...</td>\n",
       "      <td>8</td>\n",
       "      <td>city-cities-cars-urban-car-buildings</td>\n",
       "      <td>85.892216</td>\n",
       "    </tr>\n",
       "    <tr>\n",
       "      <th>4</th>\n",
       "      <td>About 10 years ago, I took on the task to teac...</td>\n",
       "      <td>https://www.ted.com/talks/hans_rosling_shows_t...</td>\n",
       "      <td>5</td>\n",
       "      <td>africa-countries-dollars-business-india-growth</td>\n",
       "      <td>63.189427</td>\n",
       "    </tr>\n",
       "  </tbody>\n",
       "</table>\n",
       "</div>"
      ],
      "text/plain": [
       "                                          transcript  \\\n",
       "0  Good morning. How are you?(Laughter)It's been ...   \n",
       "1  Thank you so much, Chris. And it's truly a gre...   \n",
       "2  (Music: \"The Sound of Silence,\" Simon & Garfun...   \n",
       "3  If you're here today — and I'm very happy that...   \n",
       "4  About 10 years ago, I took on the task to teac...   \n",
       "\n",
       "                                                 url  topic  \\\n",
       "0  https://www.ted.com/talks/ken_robinson_says_sc...     13   \n",
       "1  https://www.ted.com/talks/al_gore_on_averting_...      5   \n",
       "2  https://www.ted.com/talks/david_pogue_says_sim...     14   \n",
       "3  https://www.ted.com/talks/majora_carter_s_tale...      8   \n",
       "4  https://www.ted.com/talks/hans_rosling_shows_t...      5   \n",
       "\n",
       "                                           topic_tag  avg_sent_len  \n",
       "0  students-education-teachers-learning-teacher-s...     58.072874  \n",
       "1     africa-countries-dollars-business-india-growth    107.044776  \n",
       "2        computer-internet-video-machine-web-digital     52.350365  \n",
       "3               city-cities-cars-urban-car-buildings     85.892216  \n",
       "4     africa-countries-dollars-business-india-growth     63.189427  "
      ]
     },
     "execution_count": 28,
     "metadata": {},
     "output_type": "execute_result"
    }
   ],
   "source": [
    "df_scrpt.head()"
   ]
  },
  {
   "cell_type": "code",
   "execution_count": 29,
   "metadata": {},
   "outputs": [],
   "source": [
    "df_scrpt.to_csv(\"dataset/processed_transcript.csv\", index=False)"
   ]
  },
  {
   "cell_type": "code",
   "execution_count": 20,
   "metadata": {},
   "outputs": [
    {
     "data": {
      "text/html": [
       "<div>\n",
       "<style scoped>\n",
       "    .dataframe tbody tr th:only-of-type {\n",
       "        vertical-align: middle;\n",
       "    }\n",
       "\n",
       "    .dataframe tbody tr th {\n",
       "        vertical-align: top;\n",
       "    }\n",
       "\n",
       "    .dataframe thead th {\n",
       "        text-align: right;\n",
       "    }\n",
       "</style>\n",
       "<table border=\"1\" class=\"dataframe\">\n",
       "  <thead>\n",
       "    <tr style=\"text-align: right;\">\n",
       "      <th></th>\n",
       "      <th>topic #</th>\n",
       "      <th>topic tag</th>\n",
       "    </tr>\n",
       "  </thead>\n",
       "  <tbody>\n",
       "    <tr>\n",
       "      <th>0</th>\n",
       "      <td>1</td>\n",
       "      <td>god-stories-mother-father-book-felt</td>\n",
       "    </tr>\n",
       "    <tr>\n",
       "      <th>1</th>\n",
       "      <td>2</td>\n",
       "      <td>music-sound-ends-song-musical-piece</td>\n",
       "    </tr>\n",
       "    <tr>\n",
       "      <th>2</th>\n",
       "      <td>3</td>\n",
       "      <td>women-men-girls-woman-sex-gender</td>\n",
       "    </tr>\n",
       "    <tr>\n",
       "      <th>3</th>\n",
       "      <td>4</td>\n",
       "      <td>cancer-cells-patients-disease-patient-cell</td>\n",
       "    </tr>\n",
       "    <tr>\n",
       "      <th>4</th>\n",
       "      <td>5</td>\n",
       "      <td>africa-countries-dollars-business-india-growth</td>\n",
       "    </tr>\n",
       "  </tbody>\n",
       "</table>\n",
       "</div>"
      ],
      "text/plain": [
       "   topic #                                       topic tag\n",
       "0        1             god-stories-mother-father-book-felt\n",
       "1        2             music-sound-ends-song-musical-piece\n",
       "2        3                women-men-girls-woman-sex-gender\n",
       "3        4      cancer-cells-patients-disease-patient-cell\n",
       "4        5  africa-countries-dollars-business-india-growth"
      ]
     },
     "execution_count": 20,
     "metadata": {},
     "output_type": "execute_result"
    }
   ],
   "source": [
    "df_topic = pd.DataFrame()\n",
    "df_topic['topic #'] = [x+1 for x in topic_word.keys()]\n",
    "df_topic['topic tag'] = ['-'.join(x) for x in topic_word.values()]\n",
    "df_topic.head()"
   ]
  },
  {
   "cell_type": "code",
   "execution_count": 21,
   "metadata": {},
   "outputs": [],
   "source": [
    "df_topic.to_csv(\"dataset/topics_transcript.csv\", index=False)"
   ]
  },
  {
   "cell_type": "code",
   "execution_count": null,
   "metadata": {},
   "outputs": [],
   "source": []
  }
 ],
 "metadata": {
  "kernelspec": {
   "display_name": "Python 3",
   "language": "python",
   "name": "python3"
  },
  "language_info": {
   "codemirror_mode": {
    "name": "ipython",
    "version": 3
   },
   "file_extension": ".py",
   "mimetype": "text/x-python",
   "name": "python",
   "nbconvert_exporter": "python",
   "pygments_lexer": "ipython3",
   "version": "3.7.3"
  }
 },
 "nbformat": 4,
 "nbformat_minor": 2
}
